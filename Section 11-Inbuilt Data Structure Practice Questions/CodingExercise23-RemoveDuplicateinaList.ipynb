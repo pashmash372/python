{
 "cells": [
  {
   "cell_type": "markdown",
   "metadata": {},
   "source": [
    "\n",
    "Remove Duplicate in a List\n",
    "Remove Duplicates from a List\n",
    "\n",
    "You are given a list of integers. Write a Python program that removes any duplicate elements from the list and returns a new list with only unique elements. The order of elements in the list should be maintained.\n",
    "\n",
    "Parameters:\n",
    "\n",
    "lst (List of integers): The list of integers from which duplicates should be removed.\n",
    "\n",
    "Returns:\n",
    "\n",
    "A list of integers where all duplicates have been removed, preserving the original order.\n",
    "\n",
    "Example:\n",
    "\n",
    "Input: lst = [1, 2, 2, 3, 4, 4, 5]\n",
    "Output: [1, 2, 3, 4, 5]\n",
    "\n",
    "Input: lst = [4, 5, 5, 4, 6, 7]\n",
    "Output: [4, 5, 6, 7]\n",
    "\n",
    "\n",
    "Note :- Please don't use set or inbuilt functions. Try to use brute force logic.\n",
    "\n",
    "\n",
    "All changes saved\n",
    "|\n",
    "Line 1, Column 1\n",
    "Coding Exercise "
   ]
  },
  {
   "cell_type": "code",
   "execution_count": null,
   "metadata": {},
   "outputs": [],
   "source": [
    "def remove_duplicates(lst):\n",
    "    return list(set(lst))\n",
    "\n",
    "\n",
    "print(remove_duplicates([1, 2, 3, 4, 3, 2, 1, 4, 5]))  # [1, 2, 3, 4, 5]"
   ]
  },
  {
   "cell_type": "code",
   "execution_count": null,
   "metadata": {},
   "outputs": [],
   "source": [
    "# with list comprehension\n",
    "def remove_duplicates(lst):\n",
    "    return [i for n, i in enumerate(lst) if i not in lst[:n]]\n",
    "\n",
    "\n",
    "print(remove_duplicates([1, 2, 3, 4, 3, 2, 1, 4, 5]))  # [1, 2, 3, 4, 5]"
   ]
  },
  {
   "cell_type": "code",
   "execution_count": null,
   "metadata": {},
   "outputs": [],
   "source": [
    "# best solution\n",
    "\n",
    "def remove_duplicates(lst):\n",
    "    return list(dict.fromkeys(lst))\n",
    "\n",
    "\n",
    "print(remove_duplicates([1, 2, 3, 4, 3, 2, 1, 4, 5]))  # [1, 2, 3, 4, 5]\n",
    "\n",
    "# with set\n",
    "\n",
    "\n",
    "def remove_duplicates(lst):\n",
    "    return list(set(lst))\n",
    "\n",
    "\n",
    "print(remove_duplicates([1, 2, 3, 4, 3, 2, 1, 4, 5]))  # [1, 2, 3, 4, 5]\n",
    "\n",
    "# with loop\n",
    "\n",
    "\n",
    "def remove_duplicates(lst):\n",
    "    new_lst = []\n",
    "    for i in lst:\n",
    "        if i not in new_lst:\n",
    "            new_lst.append(i)\n",
    "    return new_lst\n",
    "\n",
    "\n",
    "print(remove_duplicates([1, 2, 3, 4, 3, 2, 1, 4, 5]))  # [1, 2, 3, 4, 5]\n"
   ]
  },
  {
   "cell_type": "markdown",
   "metadata": {},
   "source": [
    "### explain the code\n",
    "\n",
    "- The list comprehension iterates over the elements of the input list lst.\n",
    "- The enumerate function is used to get the index n and the element i of the current iteration.\n",
    "- The condition i not in lst[:n] checks if the current element i is not present in the sublist lst[:n] (i.e. the elements before the current element).\n",
    "-  If the condition is true, the element i is included in the output list. This way, only the first occurrence of each element is kept in the output list, removing duplicates.\n",
    "\n",
    "The time complexity of this solution is O(n^2) due to the in operator inside the list comprehension. For each element i, the condition i not in lst[:n] requires checking if i is present in the sublist lst[:n], which has a linear time complexity. Therefore, the overall time complexity is O(n^2) where n is the number of elements in the input list lst.\n"
   ]
  }
 ],
 "metadata": {
  "kernelspec": {
   "display_name": "Python 3",
   "language": "python",
   "name": "python3"
  },
  "language_info": {
   "codemirror_mode": {
    "name": "ipython",
    "version": 3
   },
   "file_extension": ".py",
   "mimetype": "text/x-python",
   "name": "python",
   "nbconvert_exporter": "python",
   "pygments_lexer": "ipython3",
   "version": "3.12.0"
  }
 },
 "nbformat": 4,
 "nbformat_minor": 2
}
