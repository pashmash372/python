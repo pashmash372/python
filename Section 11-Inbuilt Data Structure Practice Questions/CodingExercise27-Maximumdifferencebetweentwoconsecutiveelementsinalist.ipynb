{
 "cells": [
  {
   "cell_type": "markdown",
   "metadata": {},
   "source": [
    "\n",
    "Maximum difference between two consecutive elements in a list.\n",
    "Find Maximum Difference Between Two Consecutive Elements (Brute Force Approach)\n",
    "\n",
    "You are given a list of integers. Write a Python program to find the maximum difference between two consecutive elements in the list using a brute-force approach. The difference is defined as the absolute value of the difference between two consecutive elements.\n",
    "\n",
    "Parameters:\n",
    "\n",
    "lst (List of integers): A list of integers.\n",
    "\n",
    "Returns:\n",
    "\n",
    "An integer representing the maximum difference between two consecutive elements.\n",
    "\n",
    "Example:\n",
    "\n",
    "Input: lst = [1, 7, 3, 10, 5]\n",
    "Output: 7\n",
    "\n",
    "The maximum difference is between 3 and 10 (i.e., |3 - 10| = 7).\n",
    "\n",
    "Input: lst = [10, 11, 15, 3]\n",
    "Output: 12\n",
    "\n",
    "The maximum difference is between 15 and 3 (i.e., |15 - 3| = 12).\n",
    "\n",
    "\n",
    "All changes saved\n",
    "|\n",
    "Line 1, Column 1\n",
    "Coding Exercise"
   ]
  },
  {
   "cell_type": "code",
   "execution_count": 7,
   "metadata": {},
   "outputs": [
    {
     "name": "stdout",
     "output_type": "stream",
     "text": [
      "7\n",
      "12\n"
     ]
    }
   ],
   "source": [
    "# Input: lst = [1, 7, 3, 10, 5]\n",
    "# Output: 7\n",
    "\n",
    "# The maximum difference is between 3 and 10 (i.e., |3 - 10| = 7).\n",
    "\n",
    "# Input: lst = [10, 11, 15, 3]\n",
    "# Output: 12\n",
    "\n",
    "# The maximum difference is between 15 and 3 (i.e., |15 - 3| = 12).\n",
    "\n",
    "def max_consecutive_difference(lst):    \n",
    "    max_diff = 0\n",
    "    for i in range(1, len(lst)):\n",
    "        max_diff = max(max_diff, abs(lst[i] - lst[i - 1]))\n",
    "    return max_diff\n",
    "\n",
    "print(max_consecutive_difference([1, 7, 3, 10, 5]))\n",
    "\n",
    "\n",
    "\n",
    "\n",
    "print(max_consecutive_difference([10, 11, 15, 3]))\n",
    "\n"
   ]
  },
  {
   "cell_type": "code",
   "execution_count": 8,
   "metadata": {},
   "outputs": [
    {
     "name": "stdout",
     "output_type": "stream",
     "text": [
      "7\n",
      "12\n"
     ]
    }
   ],
   "source": [
    "# Write the above in list comprehension\n",
    "\n",
    "def max_consecutive_difference(lst):\n",
    "    return max(abs(lst[i] - lst[i - 1]) for i in range(1, len(lst)))\n",
    "\n",
    "print(max_consecutive_difference([1, 7, 3, 10, 5]))\n",
    "print(max_consecutive_difference([10, 11, 15, 3]))\n"
   ]
  },
  {
   "cell_type": "code",
   "execution_count": null,
   "metadata": {},
   "outputs": [],
   "source": []
  }
 ],
 "metadata": {
  "kernelspec": {
   "display_name": "Python 3",
   "language": "python",
   "name": "python3"
  },
  "language_info": {
   "codemirror_mode": {
    "name": "ipython",
    "version": 3
   },
   "file_extension": ".py",
   "mimetype": "text/x-python",
   "name": "python",
   "nbconvert_exporter": "python",
   "pygments_lexer": "ipython3",
   "version": "3.12.0"
  }
 },
 "nbformat": 4,
 "nbformat_minor": 2
}
