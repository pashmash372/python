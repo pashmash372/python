{
 "cells": [
  {
   "cell_type": "markdown",
   "metadata": {},
   "source": [
    "\n",
    "Count Number of Odd and Even Elements in a List\n",
    "Count Even and Odd Numbers in a List\n",
    "\n",
    "You are given a list of integers. Write a Python program that counts and returns the number of even and odd numbers in the list.\n",
    "\n",
    "Parameters:\n",
    "\n",
    "lst (List of integers): The list of integers where you will count the even and odd numbers.\n",
    "\n",
    "Returns:\n",
    "\n",
    "A tuple (even_count, odd_count) where even_count is the number of even numbers and odd_count is the number of odd numbers.\n",
    "\n",
    "Example:\n",
    "\n",
    "Input: lst = [1, 2, 3, 4, 5]\n",
    "Output: (2, 3)\n",
    "\n",
    "There are 2 even numbers: 2, 4\n",
    "\n",
    "There are 3 odd numbers: 1, 3, 5\n",
    "\n",
    "\n",
    "All changes saved\n",
    "|\n",
    "Line 1, Column 1\n",
    "Coding Exercise"
   ]
  },
  {
   "cell_type": "code",
   "execution_count": 1,
   "metadata": {},
   "outputs": [
    {
     "name": "stdout",
     "output_type": "stream",
     "text": [
      "(4, 5)\n"
     ]
    }
   ],
   "source": [
    "def count_even_odd(lst):\n",
    "    even = 0\n",
    "    odd = 0\n",
    "    for i in lst:\n",
    "        if i % 2 == 0:\n",
    "            even += 1\n",
    "        else:\n",
    "            odd += 1\n",
    "    return even, odd\n",
    "\n",
    "print(count_even_odd([1, 2, 3, 4, 5, 6, 7, 8, 9]))"
   ]
  },
  {
   "cell_type": "code",
   "execution_count": 2,
   "metadata": {},
   "outputs": [
    {
     "name": "stdout",
     "output_type": "stream",
     "text": [
      "(4, 5)\n"
     ]
    }
   ],
   "source": [
    "# best solution\n",
    "def count_even_odd(lst):\n",
    "    even = sum(1 for i in lst if i % 2 == 0)\n",
    "    odd = len(lst) - even\n",
    "    return even, odd\n",
    "\n",
    "print(count_even_odd([1, 2, 3, 4, 5, 6, 7, 8, 9]))"
   ]
  },
  {
   "cell_type": "code",
   "execution_count": null,
   "metadata": {},
   "outputs": [],
   "source": [
    "# using list comprehension\n",
    "\n",
    "def count_even_odd(lst):\n",
    "    even = len([i for i in lst if i % 2 == 0])\n",
    "    odd = len(lst) - even\n",
    "    return even, odd"
   ]
  },
  {
   "cell_type": "code",
   "execution_count": 6,
   "metadata": {},
   "outputs": [
    {
     "name": "stdout",
     "output_type": "stream",
     "text": [
      "(4, 5)\n"
     ]
    }
   ],
   "source": [
    "# using     filter() function\n",
    "\n",
    "def count_even_odd(lst):\n",
    "    even = len(list(filter(lambda x: x % 2 == 0, lst)))\n",
    "    odd = len(lst) - even\n",
    "    return even, odd\n",
    "\n",
    "print(count_even_odd([1, 2, 3, 4, 5, 6, 7, 8, 9]))\n"
   ]
  }
 ],
 "metadata": {
  "kernelspec": {
   "display_name": "Python 3",
   "language": "python",
   "name": "python3"
  },
  "language_info": {
   "codemirror_mode": {
    "name": "ipython",
    "version": 3
   },
   "file_extension": ".py",
   "mimetype": "text/x-python",
   "name": "python",
   "nbconvert_exporter": "python",
   "pygments_lexer": "ipython3",
   "version": "3.12.0"
  }
 },
 "nbformat": 4,
 "nbformat_minor": 2
}
