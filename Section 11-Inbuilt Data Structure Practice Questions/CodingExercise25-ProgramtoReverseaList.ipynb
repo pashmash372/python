{
 "cells": [
  {
   "cell_type": "markdown",
   "metadata": {},
   "source": [
    "\n",
    "Program to Reverse a List\n",
    "Reverse a List (Non-Slicing Approach)\n",
    "\n",
    "You are given a list of integers. Write a Python program that reverses the list without using slicing (lst[::-1]). The program should return the reversed list.\n",
    "\n",
    "Parameters:\n",
    "\n",
    "lst (List of integers): The list of integers to be reversed.\n",
    "\n",
    "Returns:\n",
    "\n",
    "A list of integers where the order of elements is reversed from the input list.\n",
    "\n",
    "Example:\n",
    "\n",
    "Input: lst = [1, 2, 3, 4, 5]\n",
    "Output: [5, 4, 3, 2, 1]\n",
    "\n",
    "\n",
    "All changes saved\n",
    "|\n",
    "Line 1, Column 1\n",
    "Coding Exercise"
   ]
  },
  {
   "cell_type": "code",
   "execution_count": null,
   "metadata": {},
   "outputs": [],
   "source": [
    "def reverse_list(lst):\n",
    "    return lst[::-1]"
   ]
  },
  {
   "cell_type": "code",
   "execution_count": null,
   "metadata": {},
   "outputs": [],
   "source": [
    "# use list comprehension\n",
    "\n",
    "def reverse_list(lst):\n",
    "    return [lst[i] for i in range(len(lst)-1, -1, -1)]\n",
    "\n",
    "# use reversed\n",
    "\n",
    "def reverse_list(lst):\n",
    "    return list(reversed(lst))\n",
    "\n",
    "#  lambda\n",
    "\n",
    "reverse_list = lambda lst: lst[::-1]\n",
    "\n",
    "#  recursion\n",
    "\n",
    "def reverse_list(lst):\n",
    "    if not lst:\n",
    "        return []\n",
    "    return reverse_list(lst[1:]) + [lst[0]]\n"
   ]
  }
 ],
 "metadata": {
  "kernelspec": {
   "display_name": "Python 3",
   "language": "python",
   "name": "python3"
  },
  "language_info": {
   "name": "python",
   "version": "3.12.0"
  }
 },
 "nbformat": 4,
 "nbformat_minor": 2
}
