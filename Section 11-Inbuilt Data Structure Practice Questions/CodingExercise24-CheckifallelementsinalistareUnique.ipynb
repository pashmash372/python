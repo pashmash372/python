{
 "cells": [
  {
   "cell_type": "markdown",
   "metadata": {},
   "source": [
    "\n",
    "Check if all elements in a list are Unique\n",
    "Check if All Elements in a List are Unique\n",
    "\n",
    "You are given a list of integers. Write a Python program that checks if all elements in the list are unique. If all elements are unique, return True; otherwise, return False.\n",
    "\n",
    "Parameters:\n",
    "\n",
    "lst (List of integers): The list of integers to check for uniqueness.\n",
    "\n",
    "Returns:\n",
    "\n",
    "A boolean value True if all elements in the list are unique, False otherwise.\n",
    "\n",
    "Example:\n",
    "\n",
    "Input: lst = [1, 2, 3, 4, 5]\n",
    "Output: True\n",
    "\n",
    "Input: lst = [1, 2, 3, 3, 4, 5]\n",
    "Output: False\n",
    "\n",
    "\n",
    "All changes saved\n",
    "|\n",
    "Line 1, Column 1\n",
    "Coding Exercise"
   ]
  },
  {
   "cell_type": "code",
   "execution_count": 2,
   "metadata": {},
   "outputs": [
    {
     "name": "stdout",
     "output_type": "stream",
     "text": [
      "True\n",
      "False\n"
     ]
    }
   ],
   "source": [
    "def check_unique(lst):\n",
    "    return len(lst) == len(set(lst))\n",
    "\n",
    "\n",
    "print(check_unique([1, 2, 3, 4, 5]))\n",
    "print(check_unique([1, 2, 3, 4, 5, 5]))\n",
    "\n"
   ]
  },
  {
   "cell_type": "code",
   "execution_count": null,
   "metadata": {},
   "outputs": [],
   "source": [
    "# best solution\n",
    "\n",
    "def check_unique(lst):\n",
    "    \n"
   ]
  }
 ],
 "metadata": {
  "kernelspec": {
   "display_name": "Python 3",
   "language": "python",
   "name": "python3"
  },
  "language_info": {
   "codemirror_mode": {
    "name": "ipython",
    "version": 3
   },
   "file_extension": ".py",
   "mimetype": "text/x-python",
   "name": "python",
   "nbconvert_exporter": "python",
   "pygments_lexer": "ipython3",
   "version": "3.12.0"
  }
 },
 "nbformat": 4,
 "nbformat_minor": 2
}
