{
 "cells": [
  {
   "cell_type": "markdown",
   "metadata": {},
   "source": [
    "\n",
    "Missing Number\n",
    "Asked in Companies:\n",
    "\n",
    "Google\n",
    "\n",
    "Microsoft\n",
    "\n",
    "Amazon\n",
    "\n",
    "Facebook\n",
    "\n",
    "\n",
    "\n",
    "Description:\n",
    "Given an array nums containing n distinct numbers in the range [0, n], return the only number in the range that is missing from the array.\n",
    "\n",
    "\n",
    "\n",
    "Input Parameters:\n",
    "\n",
    "nums (List[int]): A list of integers where each integer is unique and in the range [0, n].\n",
    "\n",
    "Output:\n",
    "\n",
    "int: The missing number in the range [0, n].\n",
    "\n",
    "\n",
    "\n",
    "Example:\n",
    "\n",
    "Input: nums = [3, 0, 1]\n",
    "Output: 2\n",
    " \n",
    "Input: nums = [0, 1]\n",
    "Output: 2\n",
    " \n",
    "Input: nums = [8, 7, 6, 4, 3, 2, 0, 1]\n",
    "Output: 5\n",
    "\n",
    "\n",
    "Disclaimer: This Udemy coding exercise is still in development, so some advanced complexities might not be fully checked. Please use it primarily for basic code validation.\n",
    "\n",
    "\n",
    "\n",
    "Leetcode Link : https://leetcode.com/problems/missing-number/description/\n",
    "\n",
    "\n",
    "All changes saved\n",
    "|\n",
    "Line 1, Column 1\n",
    "Coding Exercise"
   ]
  },
  {
   "cell_type": "code",
   "execution_count": 5,
   "metadata": {},
   "outputs": [
    {
     "name": "stdout",
     "output_type": "stream",
     "text": [
      "2\n"
     ]
    }
   ],
   "source": [
    "\n",
    "def missingNumber(nums):\n",
    "    n = len(nums)\n",
    "    for i in range(n+1):\n",
    "        if i not in nums:\n",
    "            return i\n",
    "print(missingNumber([3,0,1])) # 2\n",
    "    "
   ]
  }
 ],
 "metadata": {
  "kernelspec": {
   "display_name": "Python 3",
   "language": "python",
   "name": "python3"
  },
  "language_info": {
   "codemirror_mode": {
    "name": "ipython",
    "version": 3
   },
   "file_extension": ".py",
   "mimetype": "text/x-python",
   "name": "python",
   "nbconvert_exporter": "python",
   "pygments_lexer": "ipython3",
   "version": "3.12.0"
  }
 },
 "nbformat": 4,
 "nbformat_minor": 2
}
