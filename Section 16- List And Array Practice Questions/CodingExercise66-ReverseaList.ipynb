{
 "cells": [
  {
   "cell_type": "markdown",
   "metadata": {},
   "source": [
    "\n",
    "Reverse a List\n",
    "Asked in Companies:\n",
    "\n",
    "Google\n",
    "\n",
    "Amazon\n",
    "\n",
    "Microsoft\n",
    "\n",
    "Apple\n",
    "\n",
    "\n",
    "\n",
    "Description:\n",
    "Given a list of integers, write a function to reverse the order of elements in the list.\n",
    "\n",
    "\n",
    "\n",
    "Input Parameters:\n",
    "\n",
    "lst (List[int]): A list of integers.\n",
    "\n",
    "Output:\n",
    "\n",
    "List[int]: The list with elements in reversed order.\n",
    "\n",
    "\n",
    "\n",
    "Example:\n",
    "\n",
    "Input: lst = [1, 2, 3, 4, 5]\n",
    "Output: [5, 4, 3, 2, 1]\n",
    " \n",
    "Input: lst = [10, 20, 30]\n",
    "Output: [30, 20, 10]\n",
    " \n",
    "Input: lst = [7, 8, 9]\n",
    "Output: [9, 8, 7]\n",
    "\n",
    "\n",
    "Disclaimer: This Udemy coding exercise is still in development, so some advanced complexities might not be fully checked. Please use it primarily for basic code validation.\n",
    "\n",
    "\n",
    "\n",
    "Leetcode Link : No direct link is available.\n",
    "\n",
    "\n",
    "\n",
    "\n",
    "All changes saved\n",
    "|\n",
    "Line 1, Column 1\n",
    "Coding Exercise"
   ]
  },
  {
   "cell_type": "markdown",
   "metadata": {},
   "source": [
    "Use a loop to swap elements from the start and end of the list moving towards the center.\n",
    "\n",
    "Alternatively, use built-in methods for simplicit"
   ]
  },
  {
   "cell_type": "code",
   "execution_count": null,
   "metadata": {},
   "outputs": [],
   "source": [
    "def reverse_list(lst):\n",
    "    \"\"\"\n",
    "    Function to reverse the order of elements in a list.\n",
    "    :param lst: List[int] -> List of integers\n",
    "    :return: List[int] -> The list with elements in reversed order\n",
    "    \"\"\"\n",
    "    left = 0\n",
    "    right = len(lst) - 1\n",
    "    \n",
    "    # Swap elements from start and end moving towards the center\n",
    "    while left < right:\n",
    "        lst[left], lst[right] = lst[right], lst[left]\n",
    "        left += 1\n",
    "        right -= 1\n",
    "    \n",
    "    return lst\n",
    " \n",
    "# Helper function to display the result (for debugging)\n",
    "def display_result(lst):\n",
    "    print(reverse_list(lst))\n",
    " \n",
    "# Example usage (can be removed)\n",
    "# lst = [1, 2, 3, 4, 5]\n",
    "# display_result(lst)  # Output should be [5, 4, 3, 2, 1]\n"
   ]
  }
 ],
 "metadata": {
  "kernelspec": {
   "display_name": "Python 3",
   "language": "python",
   "name": "python3"
  },
  "language_info": {
   "name": "python",
   "version": "3.12.0"
  }
 },
 "nbformat": 4,
 "nbformat_minor": 2
}
