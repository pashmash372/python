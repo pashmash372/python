{
 "cells": [
  {
   "cell_type": "markdown",
   "metadata": {},
   "source": [
    "\n",
    "Maximum Subarray Sum\n",
    "Asked in Companies:\n",
    "\n",
    "Accenture\n",
    "\n",
    "SAP labs\n",
    "\n",
    "Dunzo\n",
    "\n",
    "Acko\n",
    "\n",
    "\n",
    "\n",
    "Description:\n",
    "\n",
    "Given an array arr of length n, consisting of integers, find the sum of the subarray (including an empty subarray) that has the maximum sum among all possible subarrays.\n",
    "\n",
    "\n",
    "\n",
    "Input:\n",
    "\n",
    "An integer array arr of length n where 1 ≤ n ≤ 10^5 and each element arr[i] is an integer.\n",
    "\n",
    "Output:\n",
    "\n",
    "An integer representing the sum of the subarray with the maximum sum. If all numbers are negative, the algorithm should handle that correctly by returning the largest single number or zero if the array is empty.\n",
    "\n",
    "Example:\n",
    "\n",
    "Input: arr = [-2, 1, -3, 4, -1, 2, 1, -5, 4]\n",
    "Output: 6\n",
    "Explanation: The subarray [4, -1, 2, 1] has the maximum sum 6.\n",
    "\n",
    "\n",
    "Disclaimer: This Udemy coding exercise is still in development, so some advanced complexities might not be fully checked. Please use it primarily for basic code validation.\n",
    "\n",
    "\n",
    "\n",
    "Question Link : https://www.naukri.com/code360/problems/maximum-subarray-sum_630526\n",
    "\n",
    "\n",
    "All changes saved\n",
    "|\n",
    "Line 13, Column 1\n",
    "Coding Exercise"
   ]
  },
  {
   "cell_type": "code",
   "execution_count": 1,
   "metadata": {},
   "outputs": [
    {
     "name": "stdout",
     "output_type": "stream",
     "text": [
      "15\n"
     ]
    }
   ],
   "source": [
    "def max_subarray_sum(arr):\n",
    "    if not arr:\n",
    "        return 0\n",
    " \n",
    "    # Initialize variables\n",
    "    max_ending_here = 0\n",
    "    max_so_far = float('-inf')\n",
    " \n",
    "    # Iterate through the array\n",
    "    for x in arr:\n",
    "        # Update max_ending_here to include current element\n",
    "        max_ending_here = max(x, max_ending_here + x)\n",
    "        # Update max_so_far to the maximum value found so far\n",
    "        max_so_far = max(max_so_far, max_ending_here)\n",
    " \n",
    "    return max_so_far\n",
    "\n",
    "print(max_subarray_sum([1, 2, 3, 4, 5]))  # 15\n"
   ]
  }
 ],
 "metadata": {
  "kernelspec": {
   "display_name": "Python 3",
   "language": "python",
   "name": "python3"
  },
  "language_info": {
   "codemirror_mode": {
    "name": "ipython",
    "version": 3
   },
   "file_extension": ".py",
   "mimetype": "text/x-python",
   "name": "python",
   "nbconvert_exporter": "python",
   "pygments_lexer": "ipython3",
   "version": "3.12.0"
  }
 },
 "nbformat": 4,
 "nbformat_minor": 2
}
