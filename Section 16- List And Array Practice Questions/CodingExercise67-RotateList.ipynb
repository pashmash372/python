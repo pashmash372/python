{
 "cells": [
  {
   "cell_type": "markdown",
   "metadata": {},
   "source": [
    "\n",
    "Rotate List\n",
    "Asked in Companies:\n",
    "\n",
    "Google\n",
    "\n",
    "Amazon\n",
    "\n",
    "Microsoft\n",
    "\n",
    "Facebook\n",
    "\n",
    "\n",
    "\n",
    "Description:\n",
    "Given a list of integers and an integer D, write a function to rotate the list to the left by D positions.\n",
    "\n",
    "\n",
    "\n",
    "Input Parameters:\n",
    "\n",
    "ARR (List[int]): A list of integers.\n",
    "\n",
    "D (int): The number of positions to rotate the list to the left.\n",
    "\n",
    "Output:\n",
    "\n",
    "List[int]: The list after rotating it to the left by D positions.\n",
    "\n",
    "\n",
    "\n",
    "Example:\n",
    "\n",
    "Input: ARR = [1, 2, 3, 4, 5], D = 2\n",
    "Output: [3, 4, 5, 1, 2]\n",
    " \n",
    "Input: ARR = [10, 20, 30, 40, 50], D = 3\n",
    "Output: [40, 50, 10, 20, 30]\n",
    " \n",
    "Input: ARR = [7, 8, 9, 10], D = 1\n",
    "Output: [8, 9, 10, 7]\n",
    "\n",
    "\n",
    "Disclaimer: This Udemy coding exercise is still in development, so some advanced complexities might not be fully checked. Please use it primarily for basic code validation.\n",
    "\n",
    "\n",
    "\n",
    "Leetcode Link: No direct link is available.\n",
    "\n",
    "\n",
    "All changes saved\n",
    "|\n",
    "Line 1, Column 1\n",
    "Coding Exercise"
   ]
  },
  {
   "cell_type": "markdown",
   "metadata": {},
   "source": [
    "\n",
    "Use slicing to handle the rotation in an efficient manner.\n",
    "\n",
    "The list can be rotated by slicing it into two parts and concatenating them in reversed order.\n",
    "\n",
    " "
   ]
  },
  {
   "cell_type": "code",
   "execution_count": null,
   "metadata": {},
   "outputs": [],
   "source": [
    "def rotate_left(ARR, D):\n",
    "    \"\"\"\n",
    "    Function to rotate the list to the left by D positions.\n",
    "    :param ARR: List[int] -> The list of integers\n",
    "    :param D: int -> The number of positions to rotate\n",
    "    :return: List[int] -> The list after rotation\n",
    "    \"\"\"\n",
    "    # Handle the rotation\n",
    "    D = D % len(ARR)  # Handle cases where D is larger than the size of the list\n",
    "    return ARR[D:] + ARR[:D]\n",
    " \n",
    "# Helper function to display the result (for debugging)\n",
    "def display_result(ARR, D):\n",
    "    print(rotate_left(ARR, D))\n",
    " \n",
    "# Example usage (can be removed)\n",
    "# ARR = [1, 2, 3, 4, 5]\n",
    "# D = 2\n",
    "# display_result(ARR, D)  # Output should be [3, 4, 5, 1, 2]\n"
   ]
  }
 ],
 "metadata": {
  "kernelspec": {
   "display_name": "Python 3",
   "language": "python",
   "name": "python3"
  },
  "language_info": {
   "name": "python",
   "version": "3.12.0"
  }
 },
 "nbformat": 4,
 "nbformat_minor": 2
}
