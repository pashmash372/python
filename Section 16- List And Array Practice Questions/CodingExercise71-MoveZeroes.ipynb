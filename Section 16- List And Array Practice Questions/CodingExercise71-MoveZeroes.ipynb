{
 "cells": [
  {
   "cell_type": "markdown",
   "metadata": {},
   "source": [
    "\n",
    "Move Zeroes\n",
    "Asked in Companies:\n",
    "\n",
    "Google\n",
    "\n",
    "Amazon\n",
    "\n",
    "Microsoft\n",
    "\n",
    "Facebook\n",
    "\n",
    "\n",
    "\n",
    "Description:\n",
    "Given an integer array nums, write a function to move all 0s to the end of the array while maintaining the relative order of the non-zero elements.\n",
    "\n",
    "\n",
    "\n",
    "Input Parameters:\n",
    "\n",
    "nums (List[int]): A list of integers.\n",
    "\n",
    "Output:\n",
    "\n",
    "The list nums with all 0s moved to the end, preserving the order of non-zero elements.\n",
    "\n",
    "\n",
    "\n",
    "Example:\n",
    "\n",
    "Input: nums = [0, 1, 0, 3, 12]\n",
    "Output: [1, 3, 12, 0, 0]\n",
    " \n",
    "Input: nums = [0, 0, 1]\n",
    "Output: [1, 0, 0]\n",
    " \n",
    "Input: nums = [4, 2, 4, 0, 0, 3, 0, 5, 1, 0]\n",
    "Output: [4, 2, 4, 3, 5, 1, 0, 0, 0, 0]\n",
    "\n",
    "\n",
    "Disclaimer: This Udemy coding exercise is still in development, so some advanced complexities might not be fully checked. Please use it primarily for basic code validation.\n",
    "\n",
    "\n",
    "\n",
    "Leetcode Link : https://leetcode.com/problems/move-zeroes/description/\n",
    "\n",
    "\n",
    "All changes saved\n",
    "|\n",
    "Line 1, Column 1\n",
    "Coding Exercise"
   ]
  },
  {
   "cell_type": "code",
   "execution_count": 3,
   "metadata": {},
   "outputs": [
    {
     "name": "stdout",
     "output_type": "stream",
     "text": [
      "[1, 3, 12, 0, 0]\n",
      "[0]\n",
      "[4, 2, 4, 3, 5, 1, 0, 0, 0, 0]\n"
     ]
    }
   ],
   "source": [
    "\n",
    "def moveZeroes( nums):\n",
    "    left = 0\n",
    "\n",
    "    for right in range(len(nums)):\n",
    "        if nums[right] != 0:\n",
    "            nums[right], nums[left] = nums[left], nums[right]\n",
    "            left += 1\n",
    "    \n",
    "    return nums\n",
    "\n",
    "print(moveZeroes([0,1,0,3,12]))\n",
    "print(moveZeroes([0]))\n",
    "print(moveZeroes([4, 2, 4, 0, 0, 3, 0, 5, 1, 0]))\n",
    "\n"
   ]
  }
 ],
 "metadata": {
  "kernelspec": {
   "display_name": "Python 3",
   "language": "python",
   "name": "python3"
  },
  "language_info": {
   "codemirror_mode": {
    "name": "ipython",
    "version": 3
   },
   "file_extension": ".py",
   "mimetype": "text/x-python",
   "name": "python",
   "nbconvert_exporter": "python",
   "pygments_lexer": "ipython3",
   "version": "3.12.0"
  }
 },
 "nbformat": 4,
 "nbformat_minor": 2
}
