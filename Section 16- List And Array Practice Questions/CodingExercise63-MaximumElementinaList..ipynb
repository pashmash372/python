{
 "cells": [
  {
   "cell_type": "markdown",
   "metadata": {},
   "source": [
    "\n",
    "Maximum Element in a List.\n",
    "Asked in Companies:\n",
    "\n",
    "Google\n",
    "\n",
    "Amazon\n",
    "\n",
    "Microsoft\n",
    "\n",
    "Facebook\n",
    "\n",
    "\n",
    "\n",
    "Description:\n",
    "Given a list of integers, write a function to find the maximum element in the list.\n",
    "\n",
    "\n",
    "\n",
    "Input Parameters:\n",
    "\n",
    "lst (List[int]): A list of integers.\n",
    "\n",
    "Output:\n",
    "\n",
    "int: The maximum element in the list.\n",
    "\n",
    "\n",
    "\n",
    "Example:\n",
    "\n",
    "Input: lst = [3, 5, 2, 9, 6]\n",
    "Output: 9\n",
    " \n",
    "Input: lst = [-1, -2, -3, -4]\n",
    "Output: -1\n",
    " \n",
    "Input: lst = [7]\n",
    "Output: 7\n",
    "\n",
    "\n",
    "Disclaimer:\n",
    "\n",
    "This Udemy coding exercise is still in development, so some advanced complexities might not be fully checked. Please use it primarily for basic code validation.\n",
    "\n",
    "\n",
    "\n",
    "LeetCode Link: No Direct Link is available.\n",
    "\n",
    "\n",
    "All changes saved\n",
    "|\n",
    "Line 1, Column 1\n",
    "Coding Exercise"
   ]
  },
  {
   "cell_type": "markdown",
   "metadata": {},
   "source": [
    "Traverse through the list while keeping track of the maximum value encountered.\n",
    "\n",
    "Compare each element with the current maximum and update the maximum if a larger element is found."
   ]
  },
  {
   "cell_type": "code",
   "execution_count": null,
   "metadata": {},
   "outputs": [],
   "source": [
    "def find_max_element(lst):\n",
    "    \"\"\"\n",
    "    Function to find the maximum element in a list.\n",
    "    :param lst: List[int] -> List of integers\n",
    "    :return: int -> The maximum element in the list\n",
    "    \"\"\"\n",
    "    # Initialize the maximum element as the first element of the list\n",
    "    max_element = lst[0]\n",
    "    \n",
    "    # Traverse the list to find the maximum element\n",
    "    for num in lst:\n",
    "        if num > max_element:\n",
    "            max_element = num\n",
    "    \n",
    "    return max_element\n",
    " \n",
    "# Helper function to display the result (for debugging)\n",
    "def display_result(lst):\n",
    "    print(find_max_element(lst))\n",
    " \n",
    "# Example usage (can be removed)\n",
    "# lst = [3, 5, 2, 9, 6]\n",
    "# display_result(lst)  # Output should be 9\n"
   ]
  }
 ],
 "metadata": {
  "kernelspec": {
   "display_name": "Python 3",
   "language": "python",
   "name": "python3"
  },
  "language_info": {
   "name": "python",
   "version": "3.12.0"
  }
 },
 "nbformat": 4,
 "nbformat_minor": 2
}
