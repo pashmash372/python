{
 "cells": [
  {
   "cell_type": "markdown",
   "metadata": {},
   "source": [
    "\n",
    "Palindrome List\n",
    "Asked in Companies:\n",
    "\n",
    "Google\n",
    "\n",
    "Amazon\n",
    "\n",
    "Microsoft\n",
    "\n",
    "Facebook\n",
    "\n",
    "\n",
    "\n",
    "Description:\n",
    "Given a list of integers, determine if it is a palindrome. A list is considered a palindrome if it reads the same forward and backward.\n",
    "\n",
    "\n",
    "\n",
    "Input Parameters:\n",
    "\n",
    "lst (List[int]): A list of integers.\n",
    "\n",
    "Output:\n",
    "\n",
    "bool: Return True if the list is a palindrome, otherwise False.\n",
    "\n",
    "\n",
    "\n",
    "Example:\n",
    "\n",
    "Input: lst = [7, 8, 9, 8, 7]\n",
    "Output: True\n",
    " \n",
    "Input: lst = [1, 2, 3, 4, 5]\n",
    "Output: False\n",
    " \n",
    "Input: lst = [1, 2, 3, 2, 1]\n",
    "Output: True\n",
    "\n",
    "\n",
    "Disclaimer: This Udemy coding exercise is still in development, so some advanced complexities might not be fully checked. Please use it primarily for basic code validation.\n",
    "\n",
    "\n",
    "\n",
    "\n",
    "All changes saved\n",
    "|\n",
    "Line 1, Column 1\n",
    "Coding Exercise"
   ]
  },
  {
   "cell_type": "code",
   "execution_count": null,
   "metadata": {},
   "outputs": [],
   "source": [
    "def is_palindrome(lst):\n",
    "    return lst == lst[::-1]\n",
    "\n"
   ]
  }
 ],
 "metadata": {
  "kernelspec": {
   "display_name": "Python 3",
   "language": "python",
   "name": "python3"
  },
  "language_info": {
   "name": "python",
   "version": "3.12.0"
  }
 },
 "nbformat": 4,
 "nbformat_minor": 2
}
