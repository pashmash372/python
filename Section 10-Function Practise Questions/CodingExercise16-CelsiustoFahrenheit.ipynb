{
 "cells": [
  {
   "cell_type": "markdown",
   "metadata": {},
   "source": [
    "\n",
    "Celsius to Fahrenheit\n",
    "Problem Description:\n",
    "\n",
    "You are given a temperature in Celsius. Your task is to convert it to Fahrenheit and return the result.\n",
    "\n",
    "Formula:\n",
    "\n",
    "To convert Celsius to Fahrenheit, use the formula:\n",
    "\n",
    "F = (9/5 * C) + 32\n",
    "\n",
    "Where F is the temperature in Fahrenheit and C is the temperature in Celsius.\n",
    "\n",
    "\n",
    "\n",
    "Input:\n",
    "\n",
    "A floating-point number C representing the temperature in Celsius.\n",
    "\n",
    "\n",
    "\n",
    "Output:\n",
    "\n",
    "A floating-point number representing the temperature in Fahrenheit.\n",
    "\n",
    "\n",
    "\n",
    "Example:\n",
    "\n",
    "Input: C = 25\n",
    "Output: 77.0\n",
    " \n",
    "Input: C = 0\n",
    "Output: 32.0\n",
    "\n",
    "\n",
    "Disclaimer: This Udemy coding exercise is still in development, so some advanced complexities might not be fully checked. Please use it primarily for basic code validation.\n",
    "\n",
    "\n",
    "All changes saved\n",
    "|\n",
    "Line 1, Column 1\n",
    "Coding Exercise"
   ]
  },
  {
   "cell_type": "code",
   "execution_count": 1,
   "metadata": {},
   "outputs": [
    {
     "name": "stdout",
     "output_type": "stream",
     "text": [
      "32.0\n"
     ]
    }
   ],
   "source": [
    "def celsius_to_fahrenheit(C):\n",
    "    \"\"\"\n",
    "    Function to convert temperature from Celsius to Fahrenheit.\n",
    "    \n",
    "    Parameters:\n",
    "    C (float): The temperature in Celsius.\n",
    "    \n",
    "    Returns:\n",
    "    float: The temperature in Fahrenheit.\n",
    "    \"\"\"\n",
    "    # Your code here\n",
    "    F = (C * 9/5) + 32\n",
    "    return F\n",
    "\n",
    "print(celsius_to_fahrenheit(0)) # 32.0"
   ]
  }
 ],
 "metadata": {
  "kernelspec": {
   "display_name": "Python 3",
   "language": "python",
   "name": "python3"
  },
  "language_info": {
   "codemirror_mode": {
    "name": "ipython",
    "version": 3
   },
   "file_extension": ".py",
   "mimetype": "text/x-python",
   "name": "python",
   "nbconvert_exporter": "python",
   "pygments_lexer": "ipython3",
   "version": "3.12.0"
  }
 },
 "nbformat": 4,
 "nbformat_minor": 2
}
