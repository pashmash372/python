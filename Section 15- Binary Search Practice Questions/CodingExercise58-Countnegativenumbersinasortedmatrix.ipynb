{
 "cells": [
  {
   "cell_type": "markdown",
   "metadata": {},
   "source": [
    "\n",
    "Count negative numbers in a sorted matrix\n",
    "Asked in companies:\n",
    "\n",
    "Samsung\n",
    "\n",
    "Oyo\n",
    "\n",
    "Groww\n",
    "\n",
    "Dell\n",
    "\n",
    "\n",
    "\n",
    "Description:\n",
    "You are given an m x n matrix grid where each row and column is sorted in non-increasing order. Your task is to return the number of negative numbers present in the matrix.\n",
    "\n",
    "\n",
    "\n",
    "Parameters:\n",
    "\n",
    "grid (List[List[int]]): A 2D matrix with dimensions m x n, where each row and each column is sorted in non-increasing order.\n",
    "\n",
    "Return Values:\n",
    "\n",
    "Integer: The count of negative numbers in the matrix.\n",
    "\n",
    "\n",
    "\n",
    "Example:\n",
    "\n",
    "Input: grid = [[4, 3, 2, 1], [3, 2, 1, -1], [1, 1, -1, -2], [-1, -1, -2, -3]] \n",
    "Output: 7 \n",
    "Explanation: There are 7 negative numbers in the matrix.\n",
    " \n",
    "Input: grid = [[3, 2], [1, 0]] \n",
    "Output: 0 \n",
    "Explanation: There are no negative numbers in the matrix.\n",
    "\n",
    "\n",
    "Disclaimer: This Udemy coding exercise is still in development, so some advanced complexities might not be fully checked. Please use it primarily for basic code validation.\n",
    "\n",
    "\n",
    "\n",
    "LeetCode Link: https://leetcode.com/problems/count-negative-numbers-in-a-sorted-matrix/\n",
    "\n",
    "\n",
    "All changes saved\n",
    "|\n",
    "Line 1, Column 1\n",
    "Coding Exercise"
   ]
  },
  {
   "cell_type": "markdown",
   "metadata": {},
   "source": [
    "Use binary search on each row to find the first negative number efficiently. Given that each row is sorted, you can leverage this property to count negative numbers quickly."
   ]
  },
  {
   "cell_type": "code",
   "execution_count": null,
   "metadata": {},
   "outputs": [
    {
     "name": "stdout",
     "output_type": "stream",
     "text": [
      "8\n"
     ]
    }
   ],
   "source": [
    "def countNegatives(grid):\n",
    "    \"\"\"\n",
    "    Count the number of negative numbers in a matrix sorted in non-increasing order\n",
    "    both row-wise and column-wise using binary search.\n",
    "    \"\"\"\n",
    "    def count_negatives_in_row(row):\n",
    "        \"\"\"\n",
    "        Use binary search to count the number of negative numbers in a row.\n",
    "        \"\"\"\n",
    "        left, right = 0, len(row)\n",
    "        while left < right:\n",
    "            mid = (left + right) // 2\n",
    "            if row[mid] < 0:\n",
    "                right = mid\n",
    "            else:\n",
    "                left = mid + 1\n",
    "        return len(row) - left\n",
    "\n",
    "    total_negatives = 0\n",
    "    for row in grid:\n",
    "        total_negatives += count_negatives_in_row(row)\n",
    "\n",
    "    return total_negatives\n",
    "\n",
    "\n",
    "print(countNegatives([[4, 3, 2, -1],\n",
    "                      [3, 2, 1, -1],\n",
    "                      [1, 1, -1, -2],\n",
    "                      [-1, -1, -2, -3]]))  # 8"
   ]
  }
 ],
 "metadata": {
  "kernelspec": {
   "display_name": "Python 3",
   "language": "python",
   "name": "python3"
  },
  "language_info": {
   "codemirror_mode": {
    "name": "ipython",
    "version": 3
   },
   "file_extension": ".py",
   "mimetype": "text/x-python",
   "name": "python",
   "nbconvert_exporter": "python",
   "pygments_lexer": "ipython3",
   "version": "3.12.0"
  }
 },
 "nbformat": 4,
 "nbformat_minor": 2
}
