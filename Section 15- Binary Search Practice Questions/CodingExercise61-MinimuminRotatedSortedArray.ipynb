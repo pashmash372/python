{
 "cells": [
  {
   "cell_type": "markdown",
   "metadata": {},
   "source": [
    "\n",
    "Minimum in Rotated Sorted Array\n",
    "Asked in companies\n",
    "\n",
    "Google\n",
    "\n",
    "Arcesium\n",
    "\n",
    "Phone Pe\n",
    "\n",
    "Qualcomm\n",
    "\n",
    "\n",
    "\n",
    "Description:\n",
    "Given a sorted array that has been rotated, find the minimum element in the array. The array was originally sorted in ascending order and then rotated at some pivot.\n",
    "\n",
    "\n",
    "\n",
    "Parameters:\n",
    "\n",
    "nums (List[int]): A list of integers sorted in ascending order but rotated at an unknown pivot.\n",
    "\n",
    "Return Values:\n",
    "\n",
    "int: The minimum element in the rotated sorted array.\n",
    "\n",
    "\n",
    "\n",
    "Example:\n",
    "\n",
    "Input: nums = [4, 5, 6, 7, 0, 1, 2] \n",
    "Output: 0 \n",
    "Explanation: The minimum element is 0.\n",
    " \n",
    "Input: nums = [11, 13, 15, 17] \n",
    "Output: 11 \n",
    "Explanation: The array was not rotated, and the minimum element is the first element.\n",
    "\n",
    "\n",
    "Disclaimer: This Udemy coding exercise is still in development, so some advanced complexities might not be fully checked. Please use it primarily for basic code validation.\n",
    "\n",
    "\n",
    "\n",
    "LeetCode Link: https://leetcode.com/problems/find-minimum-in-rotated-sorted-array/description/\n",
    "\n",
    "\n",
    "All changes saved\n",
    "|\n",
    "Line 1, Column 1\n",
    "Coding Exercise\n",
    "Exit fullscreen"
   ]
  },
  {
   "cell_type": "markdown",
   "metadata": {},
   "source": [
    "Use binary search to determine the minimum element:\n",
    "\n",
    "Compare the middle element with the endpoints.\n",
    "\n",
    "Adjust the search range based on the relative values of the middle and endpoint elements."
   ]
  },
  {
   "cell_type": "code",
   "execution_count": null,
   "metadata": {},
   "outputs": [],
   "source": [
    "def findMin(nums):\n",
    "    \"\"\"\n",
    "    Find the minimum element in a rotated sorted array using binary search.\n",
    "    \"\"\"\n",
    "    left, right = 0, len(nums) - 1\n",
    "    \n",
    "    while left < right:\n",
    "        mid = (left + right) // 2\n",
    "        \n",
    "        # Compare middle element with the rightmost element\n",
    "        if nums[mid] > nums[right]:\n",
    "            # The minimum element is in the right half\n",
    "            left = mid + 1\n",
    "        else:\n",
    "            # The minimum element is in the left half (including mid)\n",
    "            right = mid\n",
    "    \n",
    "    # At the end of the loop, left == right and pointing to the minimum element\n",
    "    return nums[left]\n"
   ]
  }
 ],
 "metadata": {
  "kernelspec": {
   "display_name": "Python 3",
   "language": "python",
   "name": "python3"
  },
  "language_info": {
   "name": "python",
   "version": "3.12.0"
  }
 },
 "nbformat": 4,
 "nbformat_minor": 2
}
