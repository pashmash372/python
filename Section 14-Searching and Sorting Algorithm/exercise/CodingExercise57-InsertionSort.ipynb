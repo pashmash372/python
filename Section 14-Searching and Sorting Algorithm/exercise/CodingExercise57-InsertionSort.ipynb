{
 "cells": [
  {
   "cell_type": "markdown",
   "metadata": {},
   "source": [
    "\n",
    "Insertion Sort\n",
    "Insertion Sort Algorithm\n",
    "\n",
    "You are given a list of integers. Write a Python function to sort the list in ascending order using the Insertion Sort algorithm. Insertion Sort works by building a sorted section of the list, one element at a time, by inserting each new element into its proper position within the already sorted section.\n",
    "\n",
    "Parameters:\n",
    "\n",
    "lst (List of integers): The list to be sorted.\n",
    "\n",
    "Returns:\n",
    "\n",
    "A list of integers sorted in ascending order.\n",
    "\n",
    "Example:\n",
    "\n",
    "Input: lst = [12, 11, 13, 5, 6]\n",
    "Output: [5, 6, 11, 12, 13]\n",
    "\n",
    "Input: lst = [31, 41, 59, 26, 41, 58]\n",
    "Output: [26, 31, 41, 41, 58, 59]\n",
    "\n",
    "\n",
    "All changes saved\n",
    "|\n",
    "Line 1, Column 1\n",
    "Coding Exercise"
   ]
  },
  {
   "cell_type": "code",
   "execution_count": 1,
   "metadata": {},
   "outputs": [
    {
     "name": "stdout",
     "output_type": "stream",
     "text": [
      "[5, 6, 11, 12, 13]\n"
     ]
    }
   ],
   "source": [
    "def insertion_sort(lst):\n",
    "    for i in range(1, len(lst)):\n",
    "        key = lst[i]\n",
    "        j = i - 1\n",
    "        while j >= 0 and key < lst[j]:\n",
    "            lst[j + 1] = lst[j]\n",
    "            j -= 1\n",
    "        lst[j + 1] = key\n",
    "    return lst\n",
    "\n",
    "print(insertion_sort([12, 11, 13, 5, 6]))"
   ]
  }
 ],
 "metadata": {
  "kernelspec": {
   "display_name": "Python 3",
   "language": "python",
   "name": "python3"
  },
  "language_info": {
   "codemirror_mode": {
    "name": "ipython",
    "version": 3
   },
   "file_extension": ".py",
   "mimetype": "text/x-python",
   "name": "python",
   "nbconvert_exporter": "python",
   "pygments_lexer": "ipython3",
   "version": "3.12.0"
  }
 },
 "nbformat": 4,
 "nbformat_minor": 2
}
