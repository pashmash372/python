{
 "cells": [
  {
   "cell_type": "markdown",
   "metadata": {},
   "source": [
    "\n",
    "Selection Sort\n",
    "Selection Sort Algorithm\n",
    "\n",
    "You are given a list of integers. Write a Python function to sort the list in ascending order using the Selection Sort algorithm. Selection Sort works by repeatedly finding the minimum element from the unsorted part of the list and swapping it with the first element of the unsorted part.\n",
    "\n",
    "Parameters:\n",
    "\n",
    "lst (List of integers): The list to be sorted.\n",
    "\n",
    "Returns:\n",
    "\n",
    "A list of integers sorted in ascending order.\n",
    "\n",
    "Example:\n",
    "\n",
    "Input: lst = [64, 25, 12, 22, 11]\n",
    "Output: [11, 12, 22, 25, 64]\n",
    "\n",
    "Input: lst = [29, 10, 14, 37, 13]\n",
    "Output: [10, 13, 14, 29, 37]\n",
    "\n",
    "\n",
    "All changes saved\n",
    "|\n",
    "Line 1, Column 1\n",
    "Coding Exercise"
   ]
  },
  {
   "cell_type": "code",
   "execution_count": 1,
   "metadata": {},
   "outputs": [
    {
     "name": "stdout",
     "output_type": "stream",
     "text": [
      "[11, 12, 22, 25, 64]\n"
     ]
    }
   ],
   "source": [
    "def selection_sort(lst):\n",
    "    for i in range(len(lst)):\n",
    "        min_idx = i\n",
    "        for j in range(i + 1, len(lst)):\n",
    "            if lst[j] < lst[min_idx]:\n",
    "                min_idx = j\n",
    "        lst[i], lst[min_idx] = lst[min_idx], lst[i]\n",
    "    return lst\n",
    "\n",
    "print(selection_sort([64, 25, 12, 22, 11])) # [11, 12, 22, 25, 64]\n",
    "\n"
   ]
  }
 ],
 "metadata": {
  "kernelspec": {
   "display_name": "Python 3",
   "language": "python",
   "name": "python3"
  },
  "language_info": {
   "codemirror_mode": {
    "name": "ipython",
    "version": 3
   },
   "file_extension": ".py",
   "mimetype": "text/x-python",
   "name": "python",
   "nbconvert_exporter": "python",
   "pygments_lexer": "ipython3",
   "version": "3.12.0"
  }
 },
 "nbformat": 4,
 "nbformat_minor": 2
}
