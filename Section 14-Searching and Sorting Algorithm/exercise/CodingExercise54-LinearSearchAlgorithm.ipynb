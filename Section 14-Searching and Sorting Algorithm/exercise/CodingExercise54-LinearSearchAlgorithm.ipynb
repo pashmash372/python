{
 "cells": [
  {
   "cell_type": "markdown",
   "metadata": {},
   "source": [
    "\n",
    "Linear Search Algorithm\n",
    "Problem Description:\n",
    "\n",
    "Title: Linear Search in a List\n",
    "\n",
    "Description: Implement a function linear_search that performs a linear search on a list to find a given value. The function should return the index of the first occurrence of the value in the list, or -1 if the value is not found.\n",
    "\n",
    "Parameters:\n",
    "\n",
    "arr: A list of elements (can be empty)\n",
    "\n",
    "target: The value to search for in the list\n",
    "\n",
    "Return:\n",
    "\n",
    "The index of the first occurrence of the target value (0-based), or -1 if not found\n",
    "\n",
    "Examples:\n",
    "\n",
    "linear_search([3, 7, 2, 5], 2) should return 2\n",
    "\n",
    "linear_search([1, 1, 2, 1], 1) should return 0\n",
    "\n",
    "linear_search([], 5) should return -1\n",
    "\n",
    "linear_search([4, 2, 8], 6) should return -1\n",
    "\n",
    "\n",
    "All changes saved\n",
    "|\n",
    "Line 1, Column 1\n",
    "Coding Exercise"
   ]
  },
  {
   "cell_type": "code",
   "execution_count": null,
   "metadata": {},
   "outputs": [],
   "source": [
    "\n",
    "def linear_search(arr, target):\n",
    "    for i in range(len(arr)):\n",
    "        if arr[i] == target:\n",
    "            return i\n",
    "    return -1\n",
    " \n",
    "# Example usage:\n",
    "print(linear_search([3, 7, 2, 5], 2))  # Output: 2\n",
    "print(linear_search([1, 1, 2, 1], 1))  # Output: 0\n",
    "print(linear_search([], 5))            # Output: -1\n",
    "print(linear_search([4, 2, 8], 6))     # Output: -1\n"
   ]
  }
 ],
 "metadata": {
  "kernelspec": {
   "display_name": "Python 3",
   "language": "python",
   "name": "python3"
  },
  "language_info": {
   "name": "python",
   "version": "3.12.0"
  }
 },
 "nbformat": 4,
 "nbformat_minor": 2
}
