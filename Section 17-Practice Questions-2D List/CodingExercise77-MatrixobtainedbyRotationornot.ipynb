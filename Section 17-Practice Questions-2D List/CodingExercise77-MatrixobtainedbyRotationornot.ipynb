{
 "cells": [
  {
   "cell_type": "markdown",
   "metadata": {},
   "source": [
    "\n",
    "Matrix obtained by Rotation or not?\n",
    "Asked in Companies:\n",
    "\n",
    "Oracle\n",
    "\n",
    "Apple\n",
    "\n",
    "Wipro\n",
    "\n",
    "\n",
    "\n",
    "Description:\n",
    "You are given two n x n binary matrices mat and target. Your task is to determine whether it is possible to make mat equal to target by rotating mat in 90-degree increments (clockwise). You can rotate mat by 90, 180, or 270 degrees, or leave it unchanged.\n",
    "\n",
    "\n",
    "\n",
    "Input Parameters:\n",
    "\n",
    "mat (List[List[int]]): A n x n binary matrix.\n",
    "\n",
    "target (List[List[int]]): A n x n binary matrix.\n",
    "\n",
    "Output:\n",
    "\n",
    "bool: Return True if mat can be made equal to target by rotating it, otherwise return False.\n",
    "\n",
    "\n",
    "\n",
    "Example:\n",
    "\n",
    "Input: mat = [[0, 0, 0], [0, 1, 0], [1, 1, 1]], target = [[1, 1, 1], [0, 1, 0], [0, 0, 0]]\n",
    "Output: True\n",
    " \n",
    "Input: mat = [[0, 1], [1, 1]], target = [[1, 0], [0, 1]]\n",
    "Output: False\n",
    "\n",
    "\n",
    "Disclaimer: This Udemy coding exercise is still in development, so some advanced complexities might not be fully checked. Please use it primarily for basic code validation.\n",
    "\n",
    "\n",
    "\n",
    "LeetCode Link: https://leetcode.com/problems/determine-whether-matrix-can-be-obtained-by-rotation/\n",
    "\n",
    "\n",
    "All changes saved\n",
    "|\n",
    "Line 1, Column 1\n",
    "Coding Exercise"
   ]
  },
  {
   "cell_type": "markdown",
   "metadata": {},
   "source": [
    "Rotate the matrix mat by 90, 180, and 270 degrees.\n",
    "\n",
    "After each rotation, check if it equals the target matrix."
   ]
  },
  {
   "cell_type": "code",
   "execution_count": 3,
   "metadata": {},
   "outputs": [
    {
     "name": "stdout",
     "output_type": "stream",
     "text": [
      "True\n"
     ]
    }
   ],
   "source": [
    "def rotate_90(matrix):\n",
    "    n = len(matrix)\n",
    "    rotated = [[0] * n for _ in range(n)]\n",
    "    for i in range(n):\n",
    "        for j in range(n):\n",
    "            rotated[j][n - 1 - i] = matrix[i][j]\n",
    "    return rotated\n",
    "\n",
    "\n",
    "def can_be_rotated(mat, target):\n",
    "    for _ in range(4):\n",
    "        if mat == target:\n",
    "            return True\n",
    "        mat = rotate_90(mat)\n",
    "    return False\n",
    "\n",
    "\n",
    "def display_result(mat, target):\n",
    "    result = can_be_rotated(mat, target)\n",
    "    print(result)\n",
    "\n",
    "# Example usage (can be removed)\n",
    "mat = [[0, 1], [1, 0]]\n",
    "target = [[1, 0], [0, 1]]\n",
    "display_result(mat, target)  # Output should be True"
   ]
  }
 ],
 "metadata": {
  "kernelspec": {
   "display_name": "Python 3",
   "language": "python",
   "name": "python3"
  },
  "language_info": {
   "codemirror_mode": {
    "name": "ipython",
    "version": 3
   },
   "file_extension": ".py",
   "mimetype": "text/x-python",
   "name": "python",
   "nbconvert_exporter": "python",
   "pygments_lexer": "ipython3",
   "version": "3.12.0"
  }
 },
 "nbformat": 4,
 "nbformat_minor": 2
}
