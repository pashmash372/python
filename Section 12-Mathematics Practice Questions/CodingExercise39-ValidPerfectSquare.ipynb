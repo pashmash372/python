{
 "cells": [
  {
   "cell_type": "markdown",
   "metadata": {},
   "source": [
    "\n",
    "Valid Perfect Square\n",
    "Problem Description:\n",
    "\n",
    "You are given a positive integer num. Your task is to check whether num is a perfect square or not. A perfect square is an integer that is the square of an integer (e.g., 1, 4, 9, 16, ...). Return True if num is a perfect square, and False otherwise.\n",
    "\n",
    "\n",
    "\n",
    "Input:\n",
    "\n",
    "A single positive integer num where 1 <= num <= 10^9.\n",
    "\n",
    "\n",
    "\n",
    "Output:\n",
    "\n",
    "Return True if num is a perfect square, otherwise return False.\n",
    "\n",
    "\n",
    "\n",
    "Example:\n",
    "\n",
    "Input: num = 16\n",
    "Output: True\n",
    " \n",
    "Input: num = 14\n",
    "Output: False\n",
    "\n",
    "\n",
    "Disclaimer: This Udemy coding exercise is still in development, so some advanced complexities might not be fully checked. Please use it primarily for basic code validation.\n",
    "\n",
    "\n",
    "All changes saved\n",
    "|\n",
    "Line 1, Column 1\n",
    "Coding Exercise"
   ]
  },
  {
   "cell_type": "code",
   "execution_count": 1,
   "metadata": {},
   "outputs": [
    {
     "name": "stdout",
     "output_type": "stream",
     "text": [
      "True\n",
      "True\n",
      "False\n",
      "False\n"
     ]
    }
   ],
   "source": [
    "def is_perfect_square(num):\n",
    "    if num < 0:\n",
    "        return False\n",
    "    if num == 0:\n",
    "        return True\n",
    "    i = 1\n",
    "    while i * i <= num:\n",
    "        if i * i == num:\n",
    "            return True\n",
    "        i += 1\n",
    "    return False\n",
    "\n",
    "print(is_perfect_square(0))\n",
    "\n",
    "print(is_perfect_square(1))\n",
    "\n",
    "print(is_perfect_square(2))\n",
    "\n",
    "print(is_perfect_square(3))"
   ]
  }
 ],
 "metadata": {
  "kernelspec": {
   "display_name": "Python 3",
   "language": "python",
   "name": "python3"
  },
  "language_info": {
   "codemirror_mode": {
    "name": "ipython",
    "version": 3
   },
   "file_extension": ".py",
   "mimetype": "text/x-python",
   "name": "python",
   "nbconvert_exporter": "python",
   "pygments_lexer": "ipython3",
   "version": "3.12.0"
  }
 },
 "nbformat": 4,
 "nbformat_minor": 2
}
