{
 "cells": [
  {
   "cell_type": "markdown",
   "metadata": {},
   "source": [
    "\n",
    "GCD of Two Numbers\n",
    "Problem Description:\n",
    "\n",
    "You are given two integers n and m. Your task is to find the GCD of these two numbers. The GCD is the largest positive integer that divides both numbers without leaving a remainder. Do not use any built-in functions and do not use recursion.\n",
    "\n",
    "\n",
    "\n",
    "Input:\n",
    "\n",
    "Two integers n and m, where 1 <= n, m <= 10^9.\n",
    "\n",
    "\n",
    "\n",
    "Output:\n",
    "\n",
    "An integer representing the GCD of n and m.\n",
    "\n",
    "\n",
    "\n",
    "Example:\n",
    "\n",
    "Input: n = 48, m = 18\n",
    "Output: 6\n",
    " \n",
    "Input: n = 56, m = 98\n",
    "Output: 14\n",
    "\n",
    "\n",
    "Disclaimer: This Udemy coding exercise is still in development, so some advanced complexities might not be fully checked. Please use it primarily for basic code validation.\n",
    "\n",
    "\n",
    "All changes saved\n",
    "|\n",
    "Line 1, Column 1\n",
    "Coding Exercise"
   ]
  },
  {
   "cell_type": "code",
   "execution_count": null,
   "metadata": {},
   "outputs": [
    {
     "name": "stdout",
     "output_type": "stream",
     "text": [
      "6\n"
     ]
    },
    {
     "data": {
      "text/plain": [
       "'\\nExplain the code:\\nThe code is a recursive function that calculates the greatest common divisor of two numbers n and m.\\nThe function takes two arguments n and m.\\nIf m is equal to 0, the function returns n.\\nOtherwise, the function calls itself with the arguments m and n % m.\\nThis process continues until m is equal to 0, at which point the function returns n.\\nThe function calculates the greatest common divisor of the two numbers using the Euclidean algorithm.\\nThe Euclidean algorithm is an efficient method for finding the greatest common divisor of two numbers.\\nThe algorithm works by repeatedly dividing the larger number by the smaller number and taking the remainder.\\nThe process continues until the remainder is 0, at which point the smaller number is the greatest common divisor of the two numbers.\\nThe algorithm is based on the fact that the greatest common divisor of two numbers is the same as the greatest common divisor of the smaller number and the remainder of the division of the larger number by the smaller number.\\n\\nexample:\\ngcd(12, 18)\\nm = 12, n = 18\\ngcd(18, 12)\\nm = 18, n = 12\\ngcd(12, 6)\\nm = 12, n = 6\\ngcd(6, 0)\\nm = 6, n = 0\\nreturn 6\\n'"
      ]
     },
     "execution_count": 7,
     "metadata": {},
     "output_type": "execute_result"
    }
   ],
   "source": [
    "def gcd(n, m):\n",
    "    if m == 0:\n",
    "        return n\n",
    "    return gcd(m, n % m)\n",
    "\n",
    "print(gcd(12, 18))\n",
    "\n",
    "\"\"\"\n",
    "Explain the code:\n",
    "The code is a recursive function that calculates the greatest common divisor of two numbers n and m.\n",
    "The function takes two arguments n and m.\n",
    "If m is equal to 0, the function returns n.\n",
    "Otherwise, the function calls itself with the arguments m and n % m.\n",
    "This process continues until m is equal to 0, at which point the function returns n.\n",
    "The function calculates the greatest common divisor of the two numbers using the Euclidean algorithm.\n",
    "The Euclidean algorithm is an efficient method for finding the greatest common divisor of two numbers.\n",
    "The algorithm works by repeatedly dividing the larger number by the smaller number and taking the remainder.\n",
    "The process continues until the remainder is 0, at which point the smaller number is the greatest common divisor of the two numbers.\n",
    "The algorithm is based on the fact that the greatest common divisor of two numbers is the same as the greatest common divisor of the smaller number and the remainder of the division of the larger number by the smaller number.\n",
    "\n",
    "example:\n",
    "gcd(12, 18)\n",
    "m = 12, n = 18\n",
    "gcd(18, 12)\n",
    "m = 18, n = 12\n",
    "gcd(12, 6)\n",
    "m = 12, n = 6\n",
    "gcd(6, 0)\n",
    "m = 6, n = 0\n",
    "return 6\n",
    "\n",
    "another example:\n",
    "gcd(10, 15)\n",
    "m = 10, n = 15\n",
    "gcd(15, 10)\n",
    "m = 15, n = 10\n",
    "gcd(10, 5)\n",
    "m = 10, n = 5\n",
    "gcd(5, 0)\n",
    "m = 5, n = 0\n",
    "return 5\n",
    "\n",
    "\"\"\""
   ]
  },
  {
   "cell_type": "code",
   "execution_count": null,
   "metadata": {},
   "outputs": [],
   "source": []
  },
  {
   "cell_type": "code",
   "execution_count": null,
   "metadata": {},
   "outputs": [],
   "source": []
  }
 ],
 "metadata": {
  "kernelspec": {
   "display_name": "Python 3",
   "language": "python",
   "name": "python3"
  },
  "language_info": {
   "codemirror_mode": {
    "name": "ipython",
    "version": 3
   },
   "file_extension": ".py",
   "mimetype": "text/x-python",
   "name": "python",
   "nbconvert_exporter": "python",
   "pygments_lexer": "ipython3",
   "version": "3.12.0"
  }
 },
 "nbformat": 4,
 "nbformat_minor": 2
}
