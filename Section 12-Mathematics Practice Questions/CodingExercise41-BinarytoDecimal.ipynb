{
 "cells": [
  {
   "cell_type": "markdown",
   "metadata": {},
   "source": [
    "\n",
    "Binary to Decimal\n",
    "Problem Description:\n",
    "\n",
    "You are given a string binary_str representing a binary number. Your task is to convert this binary string to its corresponding decimal integer. Do not use any built-in functions for conversion.\n",
    "\n",
    "\n",
    "\n",
    "Input:\n",
    "\n",
    "A string binary_str, consisting of characters '0' and '1', where the length of the string is between 1 and 30 (inclusive).\n",
    "\n",
    "\n",
    "\n",
    "Output:\n",
    "\n",
    "An integer representing the decimal value of the binary string\n",
    "\n",
    "\n",
    "\n",
    "Example:\n",
    "\n",
    "Input: binary_str = \"101\"\n",
    "Output: 5\n",
    " \n",
    "Input: binary_str = \"1101\"\n",
    "Output: 13\n",
    "\n",
    "\n",
    "Disclaimer: This Udemy coding exercise is still in development, so some advanced complexities might not be fully checked. Please use it primarily for basic code validation.\n",
    "\n",
    "\n",
    "All changes saved\n",
    "|\n",
    "Line 1, Column 1\n",
    "Coding Exercise"
   ]
  },
  {
   "cell_type": "code",
   "execution_count": null,
   "metadata": {},
   "outputs": [
    {
     "name": "stdout",
     "output_type": "stream",
     "text": [
      "13\n",
      "9\n"
     ]
    }
   ],
   "source": [
    "def binary_to_decimal(binary_str):\n",
    "    decimal = 0\n",
    "    for i in range(len(binary_str)):\n",
    "        decimal += int(binary_str[i]) * 2 ** (len(binary_str) - 1 - i)\n",
    "    return decimal\n",
    "\n",
    "print(binary_to_decimal(\"1101\")) # 13 => 1*2^3 + 1*2^2 + 0*2^1 + 1*2^0 = 13\n",
    "print(binary_to_decimal(\"1001\")) # 9 => 1*2^3 + 0*2^2 + 0*2^1 + 1*2^0 = 9\n",
    "\n",
    "\"\"\"\n",
    "explain the code\n",
    "1. Define a function called binary_to_decimal that takes a string called binary_str as input.\n",
    "2. Initialize a variable called decimal to 0.\n",
    "3. Iterate over the indices of the binary_str string.\n",
    "4. In each iteration, add the value of the digit at the current index multiplied by 2 raised to the power of the position of the digit \n",
    "in the string from right to left.\n",
    "5. Return the decimal value after the loop is finished.\n",
    "6. Test the function with some sample inputs.\n",
    "7. The function correctly converts a binary string to a decimal number.\n",
    "8. The function works by iterating over the indices of the binary string and adding the value of each digit multiplied by 2 raised \n",
    "to the power of its position from right to left. The final sum is the decimal equivalent of the binary string.\n",
    "9. The function is correct and efficient for converting binary strings to decimal numbers.\n",
    "\"\"\""
   ]
  }
 ],
 "metadata": {
  "kernelspec": {
   "display_name": "Python 3",
   "language": "python",
   "name": "python3"
  },
  "language_info": {
   "codemirror_mode": {
    "name": "ipython",
    "version": 3
   },
   "file_extension": ".py",
   "mimetype": "text/x-python",
   "name": "python",
   "nbconvert_exporter": "python",
   "pygments_lexer": "ipython3",
   "version": "3.12.0"
  }
 },
 "nbformat": 4,
 "nbformat_minor": 2
}
