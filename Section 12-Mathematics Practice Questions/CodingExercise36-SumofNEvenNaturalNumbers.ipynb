{
 "cells": [
  {
   "cell_type": "markdown",
   "metadata": {},
   "source": [
    "\n",
    "Sum of N Even Natural Numbers\n",
    "Problem Description:\n",
    "\n",
    "You are given an integer n. Your task is to calculate and return the sum of the first n even natural numbers. The even natural numbers are: 2, 4, 6, 8, ...\n",
    "\n",
    "\n",
    "\n",
    "Input:\n",
    "\n",
    "A single integer n where 1 <= n <= 10^4.\n",
    "\n",
    "\n",
    "\n",
    "Output:\n",
    "\n",
    "Return the sum of the first n even natural numbers.\n",
    "\n",
    "\n",
    "\n",
    "Example:\n",
    "\n",
    "Input: n = 3\n",
    "Output: 12  # (2 + 4 + 6)\n",
    " \n",
    "Input: n = 5\n",
    "Output: 30  # (2 + 4 + 6 + 8 + 10)"
   ]
  },
  {
   "cell_type": "code",
   "execution_count": null,
   "metadata": {},
   "outputs": [],
   "source": [
    "def sum_of_even_numbers(n):\n",
    "    return n*(n+1)\n",
    "\n",
    "print(sum_of_even_numbers(3)) # 30"
   ]
  },
  {
   "cell_type": "code",
   "execution_count": null,
   "metadata": {},
   "outputs": [
    {
     "name": "stdout",
     "output_type": "stream",
     "text": [
      "60\n"
     ]
    }
   ],
   "source": [
    "# sum of N Even Natural Numbers = N*(N+1)\n",
    "# sum of N Odd Natural Numbers = N*N\n",
    "# sum of first N Natural Numbers = N*(N+1)/2\n",
    "\n",
    "def sum_of_even_numbers(n):\n",
    "    return n*(n+1)\n"
   ]
  },
  {
   "cell_type": "code",
   "execution_count": 17,
   "metadata": {},
   "outputs": [
    {
     "name": "stdout",
     "output_type": "stream",
     "text": [
      "12\n"
     ]
    }
   ],
   "source": [
    "\n",
    "def sum_of_even_numbers(n):\n",
    " \n",
    "    total_sum = 0\n",
    "    current_even_number = 2\n",
    "    \n",
    " \n",
    "    for i in range(n):\n",
    "        total_sum += current_even_number\n",
    "        current_even_number += 2   \n",
    "    \n",
    "    return total_sum\n",
    "\n",
    "print(sum_of_even_numbers(3)) # 12"
   ]
  }
 ],
 "metadata": {
  "kernelspec": {
   "display_name": "Python 3",
   "language": "python",
   "name": "python3"
  },
  "language_info": {
   "codemirror_mode": {
    "name": "ipython",
    "version": 3
   },
   "file_extension": ".py",
   "mimetype": "text/x-python",
   "name": "python",
   "nbconvert_exporter": "python",
   "pygments_lexer": "ipython3",
   "version": "3.12.0"
  }
 },
 "nbformat": 4,
 "nbformat_minor": 2
}
