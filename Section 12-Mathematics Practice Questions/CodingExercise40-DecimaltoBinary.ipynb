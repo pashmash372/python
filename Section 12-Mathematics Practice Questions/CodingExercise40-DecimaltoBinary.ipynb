{
 "cells": [
  {
   "cell_type": "markdown",
   "metadata": {},
   "source": [
    "\n",
    "Decimal to Binary\n",
    "Problem Description:\n",
    "\n",
    "You are given an integer n. Your task is to return its binary representation as a string. Do not use any built-in functions for conversion.\n",
    "\n",
    "\n",
    "\n",
    "Input:\n",
    "\n",
    "A single integer n, where -10^9 <= n <= 10^9.\n",
    "\n",
    "\n",
    "\n",
    "Output:\n",
    "\n",
    "A string representing the binary representation of n.\n",
    "\n",
    "\n",
    "\n",
    "Example:\n",
    "\n",
    "Input: n = 5\n",
    "Output: \"101\"\n",
    " \n",
    "Input: n = -5\n",
    "Output: \"-101\"\n",
    "\n",
    "\n",
    "Disclaimer: This Udemy coding exercise is still in development, so some advanced complexities might not be fully checked. Please use it primarily for basic code validation.\n",
    "\n",
    "\n",
    "All changes saved\n",
    "|\n",
    "Line 1, Column 1\n",
    "Coding Exercise"
   ]
  },
  {
   "cell_type": "code",
   "execution_count": null,
   "metadata": {},
   "outputs": [
    {
     "name": "stdout",
     "output_type": "stream",
     "text": [
      "1010\n",
      "10\n"
     ]
    }
   ],
   "source": [
    "def int_to_binary(n):\n",
    "    return bin(n)[2:]\n",
    "\n",
    "\n",
    "def binary_to_int(s):\n",
    "    return int(s, 2)\n",
    "\n",
    "\n",
    "print(int_to_binary(10))\n",
    "print(binary_to_int('1010'))"
   ]
  },
  {
   "cell_type": "code",
   "execution_count": null,
   "metadata": {},
   "outputs": [
    {
     "name": "stdout",
     "output_type": "stream",
     "text": [
      "1010\n",
      "-1010\n",
      "\n"
     ]
    }
   ],
   "source": [
    "# convert int to binary without using bin() function\n",
    "def int_to_binary(n):\n",
    "    if n == 0:\n",
    "        return \"0\"\n",
    "    negative_flag = False\n",
    "    if (n < 0):\n",
    "        negative_flag = True\n",
    "    n = abs(n)\n",
    "    result = ''\n",
    "    while n > 0:\n",
    "        result = str(n % 2) + result\n",
    "        n //= 2\n",
    "\n",
    "    if negative_flag:\n",
    "        return \"-\"+result\n",
    "    else:\n",
    "        return result\n",
    "\n",
    "\n",
    "print(int_to_binary(10))\n",
    "print(int_to_binary(-10))\n",
    "print(int_to_binary(0))\n"
   ]
  },
  {
   "cell_type": "code",
   "execution_count": null,
   "metadata": {},
   "outputs": [],
   "source": []
  }
 ],
 "metadata": {
  "kernelspec": {
   "display_name": "Python 3",
   "language": "python",
   "name": "python3"
  },
  "language_info": {
   "codemirror_mode": {
    "name": "ipython",
    "version": 3
   },
   "file_extension": ".py",
   "mimetype": "text/x-python",
   "name": "python",
   "nbconvert_exporter": "python",
   "pygments_lexer": "ipython3",
   "version": "3.12.0"
  }
 },
 "nbformat": 4,
 "nbformat_minor": 2
}
