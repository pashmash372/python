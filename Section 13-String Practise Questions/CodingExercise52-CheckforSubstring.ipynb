{
 "cells": [
  {
   "cell_type": "markdown",
   "metadata": {},
   "source": [
    "\n",
    "Check for Substring\n",
    "Problem Description:\n",
    "\n",
    "You are given two strings, s and t. Your task is to determine if the string t is a substring of the string s. A substring is a contiguous sequence of characters within a string. Do not use any built-in functions for string operations and do not use recursion.\n",
    "\n",
    "\n",
    "\n",
    "Input:\n",
    "\n",
    "Two strings s and t, where 1 <= len(s), len(t) <= 1000.\n",
    "\n",
    "\n",
    "\n",
    "Output:\n",
    "\n",
    "A boolean value (True or False) indicating whether t is a substring of s.\n",
    "\n",
    "\n",
    "\n",
    "Example:\n",
    "\n",
    "Input: s = \"hello world\", t = \"world\"\n",
    "Output: True\n",
    " \n",
    "Input: s = \"hello world\", t = \"worlds\"\n",
    "Output: False\n",
    "\n",
    "\n",
    "Disclaimer: This Udemy coding exercise is still in development, so some advanced complexities might not be fully checked. Please use it primarily for basic code validation.\n",
    "\n",
    "\n",
    "All changes saved\n",
    "|\n",
    "Line 1, Column 1\n",
    "Coding Exercise"
   ]
  },
  {
   "cell_type": "code",
   "execution_count": null,
   "metadata": {},
   "outputs": [],
   "source": [
    "def is_substring(s, t):\n",
    "    return s in t"
   ]
  },
  {
   "cell_type": "code",
   "execution_count": null,
   "metadata": {},
   "outputs": [],
   "source": [
    "def is_substring(s, t):\n",
    "    len_s = 0\n",
    "    len_t = 0\n",
    "    \n",
    "    # Calculate lengths of s and t\n",
    "    while s[len_s:]:\n",
    "        len_s += 1\n",
    "    while t[len_t:]:\n",
    "        len_t += 1\n",
    "    \n",
    "    # If t is longer than s, it cannot be a substring\n",
    "    if len_t > len_s:\n",
    "        return False\n",
    " \n",
    "    # Check for substring\n",
    "    for i in range(len_s - len_t + 1):  # Only check up to len_s - len_t\n",
    "        j = 0\n",
    "        while j < len_t and s[i + j] == t[j]:  # Check each character\n",
    "            j += 1\n",
    "        if j == len_t:  # If we matched the whole t\n",
    "            return True\n",
    " \n",
    "    return False  # t is not a substring of s\n",
    " "
   ]
  }
 ],
 "metadata": {
  "kernelspec": {
   "display_name": "Python 3",
   "language": "python",
   "name": "python3"
  },
  "language_info": {
   "name": "python",
   "version": "3.12.0"
  }
 },
 "nbformat": 4,
 "nbformat_minor": 2
}
