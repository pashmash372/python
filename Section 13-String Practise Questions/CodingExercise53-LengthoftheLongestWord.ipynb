{
 "cells": [
  {
   "cell_type": "markdown",
   "metadata": {},
   "source": [
    "\n",
    "Length of the Longest Word\n",
    "Problem Description:\n",
    "\n",
    "You are given a string s. Your task is to find the length of the longest word in the string. A word is defined as a sequence of characters separated by spaces. Do not use any built-in functions for string manipulation.\n",
    "\n",
    "\n",
    "\n",
    "Input:\n",
    "\n",
    "A string s, where the length of s is between 1 and 1000 characters.\n",
    "\n",
    "\n",
    "\n",
    "Output:\n",
    "\n",
    "An integer representing the length of the longest word in the string.\n",
    "\n",
    "\n",
    "\n",
    "Example:\n",
    "\n",
    "Input: s = \"The quick brown fox jumps over the lazy dog\"\n",
    "Output: 5\n",
    " \n",
    "Input: s = \"Hello World\"\n",
    "Output: 5\n",
    "\n",
    "\n",
    "Disclaimer: This Udemy coding exercise is still in development, so some advanced complexities might not be fully checked. Please use it primarily for basic code validation.\n",
    "\n",
    "\n",
    "All changes saved\n",
    "|\n",
    "Line 1, Column 1\n",
    "Coding Exercise"
   ]
  },
  {
   "cell_type": "code",
   "execution_count": 1,
   "metadata": {},
   "outputs": [
    {
     "name": "stdout",
     "output_type": "stream",
     "text": [
      "6\n"
     ]
    }
   ],
   "source": [
    "def longest_word_length(s):\n",
    "    return max(len(word) for word in s.split())\n",
    "\n",
    "print(longest_word_length(\"A quick brown fox jumped over the lazy dog\"))\n"
   ]
  },
  {
   "cell_type": "code",
   "execution_count": 2,
   "metadata": {},
   "outputs": [
    {
     "name": "stdout",
     "output_type": "stream",
     "text": [
      "6\n"
     ]
    }
   ],
   "source": [
    "def longest_word_length(s):\n",
    "    max_length = 0\n",
    "    current_length = 0\n",
    "    \n",
    "    for i in range(len(s)):\n",
    "        if s[i] != ' ':  # If the character is not a space\n",
    "            current_length += 1  # Increment the current word length\n",
    "        else:\n",
    "            if current_length > max_length:  # Check if the current word is the longest\n",
    "                max_length = current_length\n",
    "            current_length = 0  # Reset current length for the next word\n",
    " \n",
    "    # Check the last word if the string does not end with a space\n",
    "    if current_length > max_length:\n",
    "        max_length = current_length\n",
    " \n",
    "    return max_length\n",
    " \n",
    "\n",
    "print(longest_word_length(\"A quick brown fox jumped over the lazy dog\"))  # 6"
   ]
  }
 ],
 "metadata": {
  "kernelspec": {
   "display_name": "Python 3",
   "language": "python",
   "name": "python3"
  },
  "language_info": {
   "codemirror_mode": {
    "name": "ipython",
    "version": 3
   },
   "file_extension": ".py",
   "mimetype": "text/x-python",
   "name": "python",
   "nbconvert_exporter": "python",
   "pygments_lexer": "ipython3",
   "version": "3.12.0"
  }
 },
 "nbformat": 4,
 "nbformat_minor": 2
}
