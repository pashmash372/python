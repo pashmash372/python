{
 "cells": [
  {
   "cell_type": "markdown",
   "metadata": {},
   "source": [
    "\n",
    "Count words in a string\n",
    "Problem Description:\n",
    "\n",
    "You are given a string s. Your task is to count the number of words in the string and return the total count. A word is defined as a sequence of characters separated by spaces.\n",
    "\n",
    "\n",
    "\n",
    "Input:\n",
    "\n",
    "A single string s, where the length of s is between 1 and 1000.\n",
    "\n",
    "\n",
    "\n",
    "Output:\n",
    "\n",
    "An integer representing the total count of words in the input string.\n",
    "\n",
    "\n",
    "\n",
    "Example:\n",
    "\n",
    "Input: \"Hello, World!\"\n",
    "Output: 2\n",
    " \n",
    "Input: \"Python programming is fun.\"\n",
    "Output: 4\n",
    "\n",
    "\n",
    "Disclaimer: This Udemy coding exercise is still in development, so some advanced complexities might not be fully checked. Please use it primarily for basic code validation.\n",
    "\n",
    "\n",
    "All changes saved\n",
    "|\n",
    "Line 1, Column 1\n",
    "Coding Exercise"
   ]
  },
  {
   "cell_type": "code",
   "execution_count": null,
   "metadata": {},
   "outputs": [],
   "source": [
    "def count_words(s):\n",
    "    words = s.split()\n",
    "    return len(words)"
   ]
  },
  {
   "cell_type": "code",
   "execution_count": null,
   "metadata": {},
   "outputs": [
    {
     "name": "stdout",
     "output_type": "stream",
     "text": [
      "{'I': 2, 'do': 1, 'not': 1, 'like': 1, 'it': 1, 'Sam': 1, 'Am': 1}\n",
      "{'I': 1, 'do': 1, 'not': 1, 'like': 1, 'green': 1, 'eggs': 1, 'and': 1, 'ham': 1}\n"
     ]
    }
   ],
   "source": [
    "def count_words(s):\n",
    "    words = s.split()\n",
    "    word_count = {}\n",
    "    for word in words:\n",
    "        if word in word_count:\n",
    "            word_count[word] += 1\n",
    "        else:\n",
    "            word_count[word] = 1\n",
    "    return word_count\n",
    "\n",
    "\n",
    "print(count_words(\"I do not like it Sam I Am\"))\n",
    "print(count_words(\"I do not like green eggs and ham\"))"
   ]
  }
 ],
 "metadata": {
  "kernelspec": {
   "display_name": "Python 3",
   "language": "python",
   "name": "python3"
  },
  "language_info": {
   "codemirror_mode": {
    "name": "ipython",
    "version": 3
   },
   "file_extension": ".py",
   "mimetype": "text/x-python",
   "name": "python",
   "nbconvert_exporter": "python",
   "pygments_lexer": "ipython3",
   "version": "3.12.0"
  }
 },
 "nbformat": 4,
 "nbformat_minor": 2
}
