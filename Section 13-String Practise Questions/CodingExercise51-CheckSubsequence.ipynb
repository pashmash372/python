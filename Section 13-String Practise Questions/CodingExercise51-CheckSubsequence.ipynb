{
 "cells": [
  {
   "cell_type": "markdown",
   "metadata": {},
   "source": [
    "\n",
    "Check Subsequence\n",
    "Problem Description:\n",
    "\n",
    "You are given two strings s and t. Your task is to determine if string t is a subsequence of string s. A subsequence of a string is a new string that is formed from the original string by deleting some (or no) characters without changing the order of the remaining characters.\n",
    "\n",
    "\n",
    "\n",
    "Input:\n",
    "\n",
    "Two strings s and t where the length of s is between 1 and 1000, and the length of t is between 1 and 1000.\n",
    "\n",
    "\n",
    "\n",
    "Output:\n",
    "\n",
    "Return True if t is a subsequence of s, and False otherwise.\n",
    "\n",
    "\n",
    "\n",
    "Example:\n",
    "\n",
    "Input: s = \"abcde\", t = \"ace\"\n",
    "Output: True\n",
    " \n",
    "Input: s = \"abcde\", t = \"aec\"\n",
    "Output: False\n",
    "\n",
    "\n",
    "Disclaimer: This Udemy coding exercise is still in development, so some advanced complexities might not be fully checked. Please use it primarily for basic code validation.\n",
    "\n",
    "\n",
    "All changes saved\n",
    "|\n",
    "Line 1, Column 1\n",
    "Coding Exercise"
   ]
  },
  {
   "cell_type": "code",
   "execution_count": 2,
   "metadata": {},
   "outputs": [
    {
     "name": "stdout",
     "output_type": "stream",
     "text": [
      "True\n",
      "False\n"
     ]
    }
   ],
   "source": [
    "def is_subsequence(s, t):\n",
    "    i = 0\n",
    "    for j in range(len(t)):\n",
    "        if s[i] == t[j]:\n",
    "            i += 1\n",
    "        if i == len(s):\n",
    "            return True\n",
    "    return False\n",
    "\n",
    "print(is_subsequence(\"abc\", \"ahbgdc\"))\n",
    "print(is_subsequence(\"axc\", \"ahbgdc\"))"
   ]
  },
  {
   "cell_type": "code",
   "execution_count": null,
   "metadata": {},
   "outputs": [],
   "source": [
    "\n",
    "def is_subsequence(s, t):\n",
    "    i, j = 0, 0  # Initialize two pointers for s and t\n",
    "    \n",
    "    # Loop through the original string s\n",
    "    while i < len(s) and j < len(t):\n",
    "        # If the characters match, move the pointer for t\n",
    "        if s[i] == t[j]:\n",
    "            j += 1\n",
    "        # Always move the pointer for s\n",
    "        i += 1\n",
    "    \n",
    "    # If we've matched all characters of t, return True\n",
    "    return j == len(t)\n",
    " "
   ]
  }
 ],
 "metadata": {
  "kernelspec": {
   "display_name": "Python 3",
   "language": "python",
   "name": "python3"
  },
  "language_info": {
   "codemirror_mode": {
    "name": "ipython",
    "version": 3
   },
   "file_extension": ".py",
   "mimetype": "text/x-python",
   "name": "python",
   "nbconvert_exporter": "python",
   "pygments_lexer": "ipython3",
   "version": "3.12.0"
  }
 },
 "nbformat": 4,
 "nbformat_minor": 2
}
