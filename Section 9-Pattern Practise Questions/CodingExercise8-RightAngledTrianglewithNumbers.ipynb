{
 "cells": [
  {
   "cell_type": "markdown",
   "metadata": {},
   "source": [
    "\n",
    "Right Angled Triangle with Numbers\n",
    "Problem Description:\n",
    "\n",
    "You are given an integer n. Your task is to return a right-angled triangle pattern where each row contains repeated digits. The first row contains the number 1 repeated once, the second row contains the number 2 repeated twice, and so on until the nth row contains the number n repeated n times.\n",
    "\n",
    "\n",
    "\n",
    "Input:\n",
    "\n",
    "A single integer n, where 1 <= n <= 100.\n",
    "\n",
    "\n",
    "\n",
    "Output:\n",
    "\n",
    "A list of strings where each string represents a row in the triangle. The ith row contains the digit i repeated i times.\n",
    "\n",
    "\n",
    "\n",
    "Example:\n",
    "\n",
    "Input: 5\n",
    "Output: ['1', '22', '333', '4444', '55555']\n",
    " \n",
    "Input: 3\n",
    "Output: ['1', '22', '333']"
   ]
  },
  {
   "cell_type": "code",
   "execution_count": null,
   "metadata": {},
   "outputs": [
    {
     "name": "stdout",
     "output_type": "stream",
     "text": [
      "1\n",
      "22\n",
      "333\n",
      "4444\n",
      "55555\n"
     ]
    }
   ],
   "source": [
    "def generate_number_triangle(n):\n",
    "    ans=[]\n",
    "    for i in range(1, n + 1):\n",
    "        for j in range(1, i + 1):\n",
    "            print(i,end=\"\")                        \n",
    "        print()\n",
    "\n",
    "generate_number_triangle(5)\n"
   ]
  },
  {
   "cell_type": "code",
   "execution_count": 20,
   "metadata": {},
   "outputs": [
    {
     "name": "stdout",
     "output_type": "stream",
     "text": [
      "[1, '\\n', 2, 2, '\\n', 3, 3, 3, '\\n', 4, 4, 4, 4, '\\n', 5, 5, 5, 5, 5, '\\n']\n",
      "1\n",
      "22\n",
      "333\n",
      "4444\n",
      "55555\n",
      "\n"
     ]
    }
   ],
   "source": [
    "# use list instead of printing \n",
    "def generate_number_triangle(n):\n",
    "    ans=[]\n",
    "    for i in range(1, n + 1):\n",
    "        for j in range(1, i + 1):\n",
    "            ans.append(i)\n",
    "        ans.append(\"\\n\")\n",
    "    return ans\n",
    "\n",
    "print(generate_number_triangle(5))\n",
    " \n",
    "\n",
    "print(\"\".join(map(str,generate_number_triangle(5))))\n"
   ]
  },
  {
   "cell_type": "code",
   "execution_count": 22,
   "metadata": {},
   "outputs": [
    {
     "name": "stdout",
     "output_type": "stream",
     "text": [
      "['1', '22', '333', '4444', '55555']\n"
     ]
    }
   ],
   "source": [
    "# Input: 5\n",
    "# Output: ['1', '22', '333', '4444', '55555']\n",
    " \n",
    "# Input: 3\n",
    "# Output: ['1', '22', '333']\n",
    "\n",
    "def generate_number_triangle(n):\n",
    "    ans=[]\n",
    "    for i in range(1, n + 1):\n",
    "        ans.append(str(i)*i)\n",
    "    return ans\n",
    "\n",
    "print(generate_number_triangle(5))\n"
   ]
  },
  {
   "cell_type": "code",
   "execution_count": 23,
   "metadata": {},
   "outputs": [
    {
     "name": "stdout",
     "output_type": "stream",
     "text": [
      "['1', '22', '333', '4444', '55555']\n"
     ]
    }
   ],
   "source": [
    "# use list comprehension for the above code\n",
    "\n",
    "def generate_number_triangle(n):\n",
    "    return [str(i)*i for i in range(1,n+1)]\n",
    "\n",
    "print(generate_number_triangle(5))\n"
   ]
  }
 ],
 "metadata": {
  "kernelspec": {
   "display_name": "Python 3",
   "language": "python",
   "name": "python3"
  },
  "language_info": {
   "codemirror_mode": {
    "name": "ipython",
    "version": 3
   },
   "file_extension": ".py",
   "mimetype": "text/x-python",
   "name": "python",
   "nbconvert_exporter": "python",
   "pygments_lexer": "ipython3",
   "version": "3.12.0"
  }
 },
 "nbformat": 4,
 "nbformat_minor": 2
}
