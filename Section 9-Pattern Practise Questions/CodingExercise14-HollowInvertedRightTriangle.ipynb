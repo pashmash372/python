{
 "cells": [
  {
   "cell_type": "markdown",
   "metadata": {},
   "source": [
    "\n",
    "Hollow Inverted Right Triangle\n",
    "Problem Description:\n",
    "\n",
    "You are given an integer n. Your task is to return a hollow inverted right-angled triangle pattern of '*', where the first row contains n stars, while the inner rows contain a star at the beginning and end, with spaces in between. The triangle should be left-aligned.\n",
    "\n",
    "\n",
    "\n",
    "Input:\n",
    "\n",
    "A single integer n, where 1 <= n <= 100.\n",
    "\n",
    "\n",
    "\n",
    "Output:\n",
    "\n",
    "A list of strings where each string represents a row in the hollow inverted right-angled triangle.\n",
    "\n",
    "\n",
    "\n",
    "Example:\n",
    "\n",
    "Input: 4\n",
    "Output: ['****', '* *', '**', '*']\n",
    " \n",
    "Input: 5\n",
    "Output: ['*****', '*  *', '* *', '**', '*']\n",
    "\n",
    "\n",
    "Disclaimer : This Udemy coding exercise is still in development, so some advanced complexities might not be fully checked. Please use it primarily for basic code validation.\n",
    "\n",
    "\n",
    "All changes saved\n",
    "|\n",
    "Line 1, Column 1\n",
    "Coding Exercise"
   ]
  },
  {
   "cell_type": "code",
   "execution_count": 1,
   "metadata": {},
   "outputs": [
    {
     "name": "stdout",
     "output_type": "stream",
     "text": [
      "['*****', '*  *', '* *', '**', '*']\n"
     ]
    }
   ],
   "source": [
    "def generate_hollow_inverted_right_angled_triangle(n):\n",
    "    triangle=[]\n",
    "    for idx,i in enumerate(range(n,0,-1)):\n",
    "        if idx==0 or idx==n-1:\n",
    "            triangle.append('*'*i)\n",
    "        else:\n",
    "            triangle.append('*'+' '*(i-2)+'*')\n",
    "    return triangle\n",
    "\n",
    "print(generate_hollow_inverted_right_angled_triangle(5))\n",
    "\n",
    "\n"
   ]
  }
 ],
 "metadata": {
  "kernelspec": {
   "display_name": "Python 3",
   "language": "python",
   "name": "python3"
  },
  "language_info": {
   "codemirror_mode": {
    "name": "ipython",
    "version": 3
   },
   "file_extension": ".py",
   "mimetype": "text/x-python",
   "name": "python",
   "nbconvert_exporter": "python",
   "pygments_lexer": "ipython3",
   "version": "3.12.0"
  }
 },
 "nbformat": 4,
 "nbformat_minor": 2
}
