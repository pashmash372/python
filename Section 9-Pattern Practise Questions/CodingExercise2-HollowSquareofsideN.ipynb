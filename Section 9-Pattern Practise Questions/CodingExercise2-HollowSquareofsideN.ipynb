{
 "cells": [
  {
   "cell_type": "markdown",
   "metadata": {},
   "source": [
    "\n",
    "Hollow Square of side 'N'\n",
    "Problem Description:\n",
    "\n",
    "You are given an integer n. Your task is to return a hollow square pattern of size n x n made up of the character '*', represented as a list of strings. The hollow square has '*' on the border, and spaces ' ' in the middle (except for side lengths of 1 and 2).\n",
    "\n",
    "\n",
    "\n",
    "Input Parameters:\n",
    "\n",
    "n (int): The size of the square (number of rows and columns).\n",
    "\n",
    "\n",
    "\n",
    "Output:\n",
    "\n",
    "A list of strings where each string is a row of n characters, representing a hollow square.\n",
    "\n",
    "\n",
    "\n",
    "Example:\n",
    "\n",
    "Input: 3\n",
    "Output: ['***', '* *', '***']\n",
    " \n",
    "Input: 5\n",
    "Output: ['*****', '*   *', '*   *', '*   *', '*****']"
   ]
  },
  {
   "cell_type": "code",
   "execution_count": 10,
   "metadata": {},
   "outputs": [
    {
     "name": "stdout",
     "output_type": "stream",
     "text": [
      "***\n",
      "* *\n",
      "***\n",
      "None\n"
     ]
    }
   ],
   "source": [
    "def generate_hollow_square(n):\n",
    "    for i in range(n):\n",
    "        if i == 0 or i == n-1:\n",
    "            print('*' * n)\n",
    "        else:\n",
    "            print('*' + ' ' * (n-2) + '*')\n",
    "            # how to do formatting in python in vscode\n",
    "\n",
    "\n",
    "print(generate_hollow_square(3))"
   ]
  },
  {
   "cell_type": "code",
   "execution_count": 11,
   "metadata": {},
   "outputs": [
    {
     "name": "stdout",
     "output_type": "stream",
     "text": [
      "['***', '* *', '***']\n"
     ]
    }
   ],
   "source": [
    "# another way to solve this problem using comprehension\n",
    "\n",
    "def generate_hollow_square(n):\n",
    "    return ['*' * n if i == 0 or i == n-1 else '*' + ' ' * (n-2) + '*' for i in range(n)]\n",
    "print(generate_hollow_square(3))\n",
    "\n"
   ]
  }
 ],
 "metadata": {
  "kernelspec": {
   "display_name": "Python 3",
   "language": "python",
   "name": "python3"
  },
  "language_info": {
   "codemirror_mode": {
    "name": "ipython",
    "version": 3
   },
   "file_extension": ".py",
   "mimetype": "text/x-python",
   "name": "python",
   "nbconvert_exporter": "python",
   "pygments_lexer": "ipython3",
   "version": "3.12.0"
  }
 },
 "nbformat": 4,
 "nbformat_minor": 2
}
