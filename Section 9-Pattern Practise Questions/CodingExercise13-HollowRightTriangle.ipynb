{
 "cells": [
  {
   "cell_type": "markdown",
   "metadata": {},
   "source": [
    "\n",
    "Hollow Right Triangle\n",
    "Problem Description:\n",
    "\n",
    "You are given an integer n. Your task is to return a hollow right-angled triangle pattern of '*', where the first and last rows contain stars, while the inner rows contain a star at the beginning and end, with spaces in between. The triangle should be right-aligned.\n",
    "\n",
    "\n",
    "\n",
    "Input:\n",
    "\n",
    "A single integer n, where 1 <= n <= 100.\n",
    "\n",
    "\n",
    "\n",
    "Output:\n",
    "\n",
    "A list of strings where each string represents a row in the hollow right-angled triangle.\n",
    "\n",
    "\n",
    "\n",
    "Example:\n",
    "\n",
    "Input: 4\n",
    "Output: ['*', '**', '* *', '****']\n",
    " \n",
    "Input: 5\n",
    "Output: ['*', '**', '* *', '*  *', '*****']\n",
    "\n",
    "\n",
    "Disclaimer: This Udemy coding exercise is still in development, so some advanced complexities might not be fully checked. Please use it primarily for basic code validation.\n",
    "\n",
    "\n",
    "All changes saved\n",
    "|\n",
    "Line 1, Column 1\n",
    "Coding Exercise"
   ]
  },
  {
   "cell_type": "code",
   "execution_count": 8,
   "metadata": {},
   "outputs": [
    {
     "name": "stdout",
     "output_type": "stream",
     "text": [
      "['*', '**', '* *', '*  *', '*****']\n",
      "*\n",
      "**\n",
      "* *\n",
      "*  *\n",
      "*****\n"
     ]
    }
   ],
   "source": [
    "def generate_hollow_right_angled_triangle(n):\n",
    "    triangle = []\n",
    "    for idx, i in enumerate(range(1, n+1)):\n",
    "        stars = i*'*'\n",
    "        if (idx == 0 or idx == 1 or idx == n-1):\n",
    "            row = stars\n",
    "            triangle.append(row)\n",
    "        else:\n",
    "            space = ' '*(i-2)\n",
    "            row = f'*{space}*'\n",
    "            triangle.append(row)\n",
    "    return triangle\n",
    "\n",
    "print(generate_hollow_right_angled_triangle(5))\n",
    "print(\"\\n\".join(generate_hollow_right_angled_triangle(5)))"
   ]
  },
  {
   "cell_type": "code",
   "execution_count": null,
   "metadata": {},
   "outputs": [
    {
     "name": "stdout",
     "output_type": "stream",
     "text": [
      "['*', '**', '* *', '*  *', '*****']\n",
      "*\n",
      "**\n",
      "* *\n",
      "*  *\n",
      "*****\n"
     ]
    }
   ],
   "source": [
    "def generate_hollow_right_angled_triangle(n):\n",
    "    triangle = []\n",
    "    for idx, i in enumerate(range(1, n+1)):\n",
    "        stars = i*'*'\n",
    "        if (idx == 0 or idx == 1 or idx == n-1):\n",
    "            row = stars\n",
    "            triangle.append(row)\n",
    "        else:\n",
    "            space = ' '*(i-2)\n",
    "            row = f'*{space}*'\n",
    "            triangle.append(row)\n",
    "    return triangle\n",
    "\n",
    "print(generate_hollow_right_angled_triangle(5))\n",
    "print(\"\\n\".join(generate_hollow_right_angled_triangle(5)))\n",
    "\n",
    "# explain this code line by line to understand it better\n",
    "# 1. define a function called generate_hollow_right_angled_triangle that takes an argument n\n",
    "# 2. create an empty list called triangle\n",
    "# 3. loop through the range of n+1 and enumerate the loop\n",
    "# 4. create a variable called stars that is equal to i multiplied by the string '*'\n",
    "# 5. check if the index is 0, 1 or n-1\n",
    "# 6. if the condition is true, create a variable called row that is equal to stars\n",
    "# 7. append the row to the triangle list\n",
    "# 8. else, create a variable called space that is equal to a string of spaces multiplied by i-2\n",
    "# 9. create a variable called row that is equal to a string that contains a '*' followed by the space variable followed by a '*'\n",
    "# 10. append the row to the triangle list\n",
    "# 11. return the triangle list\n",
    "# 12. print the result of calling the function with the argument 5\n"
   ]
  },
  {
   "cell_type": "code",
   "execution_count": 12,
   "metadata": {},
   "outputs": [
    {
     "name": "stdout",
     "output_type": "stream",
     "text": [
      "0 1\n",
      "1 2\n",
      "2 3\n",
      "3 4\n",
      "4 5\n"
     ]
    }
   ],
   "source": [
    "for idx, i in enumerate(range(1, 5+1)):\n",
    "    print(idx, i)"
   ]
  },
  {
   "cell_type": "code",
   "execution_count": null,
   "metadata": {},
   "outputs": [],
   "source": []
  }
 ],
 "metadata": {
  "kernelspec": {
   "display_name": "Python 3",
   "language": "python",
   "name": "python3"
  },
  "language_info": {
   "codemirror_mode": {
    "name": "ipython",
    "version": 3
   },
   "file_extension": ".py",
   "mimetype": "text/x-python",
   "name": "python",
   "nbconvert_exporter": "python",
   "pygments_lexer": "ipython3",
   "version": "3.12.0"
  }
 },
 "nbformat": 4,
 "nbformat_minor": 2
}
