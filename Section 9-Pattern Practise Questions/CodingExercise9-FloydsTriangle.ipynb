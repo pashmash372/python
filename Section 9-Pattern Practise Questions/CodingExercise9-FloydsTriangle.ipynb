{
 "cells": [
  {
   "cell_type": "markdown",
   "metadata": {},
   "source": [
    "\n",
    "Floyds Triangle\n",
    "Problem Description:\n",
    "\n",
    "You are given an integer n. Your task is to return the first n rows of Floyd’s Triangle, represented as a list of strings. Floyd's Triangle is a triangular array of natural numbers where the first row contains 1, the second row contains 2 and 3, the third row contains 4, 5, and 6, and so on.\n",
    "\n",
    "\n",
    "\n",
    "Input:\n",
    "\n",
    "A single integer n, where 1 <= n <= 100.\n",
    "\n",
    "\n",
    "\n",
    "Output:\n",
    "\n",
    "A list of strings where each string represents a row in Floyd's Triangle.\n",
    "\n",
    "\n",
    "\n",
    "Example:\n",
    "\n",
    "Input: 5\n",
    "Output: ['1', '2 3', '4 5 6', '7 8 9 10', '11 12 13 14 15']\n",
    " \n",
    "Input: 3\n",
    "Output: ['1', '2 3', '4 5 6']\n",
    "\n",
    "\n",
    "Disclaimer: This Udemy coding exercise is still in development, so some advanced complexities might not be fully checked. Please use it primarily for basic code validation.\n",
    "\n",
    "\n",
    "All changes saved\n",
    "|\n",
    "Line 1, Column 1\n",
    "Coding Exercise"
   ]
  },
  {
   "cell_type": "code",
   "execution_count": null,
   "metadata": {},
   "outputs": [
    {
     "name": "stdout",
     "output_type": "stream",
     "text": [
      "1 \n",
      "2 3 \n",
      "4 5 6 \n",
      "7 8 9 10 \n",
      "11 12 13 14 15 \n"
     ]
    }
   ],
   "source": [
    "def generate_floyds_triangle(n):\n",
    "    num = 1\n",
    "    for i in range(1, n + 1):\n",
    "        for j in range(1, i + 1):\n",
    "            print(num, end=' ')\n",
    "            num += 1\n",
    "        print()\n",
    "\n",
    "\n",
    "generate_floyds_triangle(5)"
   ]
  },
  {
   "cell_type": "code",
   "execution_count": null,
   "metadata": {},
   "outputs": [
    {
     "name": "stdout",
     "output_type": "stream",
     "text": [
      "['1 ', '2 3 ', '4 5 6 ', '7 8 9 10 ', '11 12 13 14 15 ']\n"
     ]
    }
   ],
   "source": [
    "def generate_floyds_triangle(n):\n",
    "    num = 1\n",
    "    ans = []\n",
    "    for i in range(1, n + 1):\n",
    "        row = \"\"\n",
    "        for j in range(1, i + 1):\n",
    "            row += str(num)+\" \"\n",
    "            num += 1\n",
    "        ans.append(row)\n",
    "    return ans\n",
    "\n",
    "\n",
    "print(generate_floyds_triangle(5))\n",
    "\n",
    "# Actual Output ['1 ', '2 3 ', '4 5 6 ', '7 8 9 10 ', '11 12 13 14 15 ']\n",
    "\n",
    "# Expected Output ['1', '2 3', '4 5 6', '7 8 9 10', '11 12 13 14 15']\n",
    "\n",
    "# write code for expected output"
   ]
  },
  {
   "cell_type": "code",
   "execution_count": 9,
   "metadata": {},
   "outputs": [
    {
     "name": "stdout",
     "output_type": "stream",
     "text": [
      "['1', '2 3', '4 5 6', '7 8 9 10', '11 12 13 14 15']\n"
     ]
    }
   ],
   "source": [
    "def generate_floyds_triangle(n):\n",
    "    num = 1\n",
    "    ans = []\n",
    "    for i in range(1, n + 1):\n",
    "        row = \"\"\n",
    "        for j in range(1, i + 1):\n",
    "            row += str(num)+\" \"\n",
    "            num += 1\n",
    "        ans.append(row.strip())\n",
    "    return ans\n",
    "\n",
    "print(generate_floyds_triangle(5))"
   ]
  },
  {
   "cell_type": "code",
   "execution_count": 10,
   "metadata": {},
   "outputs": [
    {
     "name": "stdout",
     "output_type": "stream",
     "text": [
      "['1', '1 2', '1 2 3', '1 2 3 4', '1 2 3 4 5']\n"
     ]
    }
   ],
   "source": [
    "# for the above write code list comprehension\n",
    "\n",
    "def generate_floyds_triangle(n):\n",
    "    num = 1\n",
    "    return [ \" \".join([str(num + j) for j in range(i)]) for i in range(1, n + 1)]\n",
    "\n",
    "print(generate_floyds_triangle(5))"
   ]
  }
 ],
 "metadata": {
  "kernelspec": {
   "display_name": "Python 3",
   "language": "python",
   "name": "python3"
  },
  "language_info": {
   "codemirror_mode": {
    "name": "ipython",
    "version": 3
   },
   "file_extension": ".py",
   "mimetype": "text/x-python",
   "name": "python",
   "nbconvert_exporter": "python",
   "pygments_lexer": "ipython3",
   "version": "3.12.0"
  }
 },
 "nbformat": 4,
 "nbformat_minor": 2
}
