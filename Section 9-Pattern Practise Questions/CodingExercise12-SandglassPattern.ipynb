{
 "cells": [
  {
   "cell_type": "markdown",
   "metadata": {},
   "source": [
    "\n",
    "Sandglass Pattern\n",
    "Problem Description:\n",
    "\n",
    "You are given an integer n. Your task is to return a sandglass pattern of '*', where the first row contains 2n - 1 stars and each subsequent row decreases the number of stars by 2, until the last row contains a single star. After reaching the smallest width, the pattern then continues with the same number of stars increasing back to 2n - 1. The stars in each row should be centered.\n",
    "\n",
    "\n",
    "\n",
    "Input:\n",
    "\n",
    "A single integer n, where 1 <= n <= 100.\n",
    "\n",
    "\n",
    "\n",
    "Output:\n",
    "\n",
    "A list of strings where each string represents a row in the sandglass pattern.\n",
    "\n",
    "\n",
    "\n",
    "Example:\n",
    "\n",
    "Input: 3\n",
    "Output: ['*****', ' *** ', '  *  ', ' *** ', '*****']\n",
    " \n",
    "Input: 4\n",
    "Output: ['*******', ' ***** ', '  ***  ', '   *   ', '  ***  ', ' ***** ', '*******']\n",
    "\n",
    "\n",
    "Disclaimer: This Udemy coding exercise is still in development, so some advanced complexities might not be fully checked. Please use it primarily for basic code validation.\n",
    "\n",
    "\n",
    "All changes saved\n",
    "|\n",
    "Line 1, Column 1\n",
    "Coding Exercise"
   ]
  },
  {
   "cell_type": "code",
   "execution_count": null,
   "metadata": {},
   "outputs": [
    {
     "name": "stdout",
     "output_type": "stream",
     "text": [
      "['  *', ' ***', '*****', ' ***', '  *']\n"
     ]
    }
   ],
   "source": [
    "# Input: 3\n",
    "# Output: ['*****', ' *** ', '  *  ', ' *** ', '*****']\n",
    "\n",
    "# Input: 4\n",
    "# Output: ['*******', ' ***** ', '  ***  ', '   *   ', '  ***  ', ' ***** ', '*******']\n",
    "\n",
    "def print_diamond(n):\n",
    "    diamond = []\n",
    "    for i in range(n):\n",
    "        diamond.append(' ' * (n - i - 1) + '*' * (2 * i + 1))\n",
    "    for i in range(n - 2, -1, -1):\n",
    "        diamond.append(' ' * (n - i - 1) + '*' * (2 * i + 1))\n",
    "    return diamond\n",
    "\n",
    "\n",
    "print(print_diamond(3))"
   ]
  },
  {
   "cell_type": "code",
   "execution_count": null,
   "metadata": {},
   "outputs": [
    {
     "name": "stdout",
     "output_type": "stream",
     "text": [
      "* * * \n",
      " * * \n",
      "  * \n",
      "  * \n",
      " * * \n",
      "* * * \n",
      "None\n"
     ]
    }
   ],
   "source": [
    "def generate_sandglass(n):\n",
    "    for i in range(0, n):\n",
    "        for j in range(0, i):\n",
    "            print(end=' ')\n",
    "        for k in range(i, n):\n",
    "            print('*', end=' ')\n",
    "        print()\n",
    "\n",
    "    for i in range(n - 1, -1, -1):\n",
    "        for j in range(0, i):\n",
    "            print(end=' ')\n",
    "        for k in range(i, n):\n",
    "            print('*', end=' ')\n",
    "        print()\n",
    "\n",
    "\n",
    "print(generate_sandglass(3))"
   ]
  },
  {
   "cell_type": "code",
   "execution_count": 10,
   "metadata": {},
   "outputs": [
    {
     "name": "stdout",
     "output_type": "stream",
     "text": [
      "['*****', ' *** ', '  *  ', ' *** ', '*****']\n"
     ]
    }
   ],
   "source": [
    "def generate_sandglass(n):\n",
    "    sandglass = []\n",
    "    for i in range(n, 0, -1):\n",
    "        stars = (2 * i - 1) * '*'\n",
    "        spaces = (n - i) * ' '\n",
    "        sandglass.append(f'{spaces}{stars}{spaces}')\n",
    "\n",
    "    for i in range(2, n + 1):\n",
    "        stars = (2 * i - 1) * '*'\n",
    "        spaces = (n - i) * ' '\n",
    "        sandglass.append(f'{spaces}{stars}{spaces}')\n",
    "\n",
    "    return sandglass\n",
    "\n",
    "\n",
    "print(generate_sandglass(3))\n"
   ]
  },
  {
   "cell_type": "markdown",
   "metadata": {},
   "source": [
    "Your approach to generating the sandglass pattern looks good! You're correctly calculating the number of stars and spaces for each row. However, there are a couple of adjustments you might consider to ensure the output matches the expected format.\n",
    "\n",
    "1. **Row Calculation**: In your code, you're iterating from n down to 1 for the upper half of the sandglass. This is fine, but remember that the number of stars should be calculated as 2 * (n - i) - 1, which you seem to be doing correctly. Just ensure that your loop correctly reflects the intended pattern.\n",
    "\n",
    "2. **Lower Half Construction**: When constructing the lower half of the sandglass, you should ensure that the stars increase correctly after reaching the narrowest point. The lower half should mirror the upper half, starting from 1 star and increasing back to 2n - 1.\n",
    "\n",
    "3. **Spacing**: Make sure that the spaces are calculated correctly to center the stars. The leading spaces for the upper half should increase as you go down, while for the lower half, they should decrease accordingly.\n",
    "\n",
    "Here’s a refined version of your approach:"
   ]
  }
 ],
 "metadata": {
  "kernelspec": {
   "display_name": "Python 3",
   "language": "python",
   "name": "python3"
  },
  "language_info": {
   "codemirror_mode": {
    "name": "ipython",
    "version": 3
   },
   "file_extension": ".py",
   "mimetype": "text/x-python",
   "name": "python",
   "nbconvert_exporter": "python",
   "pygments_lexer": "ipython3",
   "version": "3.12.0"
  }
 },
 "nbformat": 4,
 "nbformat_minor": 2
}
