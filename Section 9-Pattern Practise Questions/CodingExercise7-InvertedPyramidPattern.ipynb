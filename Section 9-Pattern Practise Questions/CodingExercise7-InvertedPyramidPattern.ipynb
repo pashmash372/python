{
 "cells": [
  {
   "cell_type": "markdown",
   "metadata": {},
   "source": [
    "\n",
    "Inverted Pyramid Pattern\n",
    "Problem Description\n",
    "\n",
    "You are given an integer n. Your task is to return an inverted pyramid pattern of '*', where each side has n rows, represented as a list of strings. The first row has 2n - 1 stars, the second row has 2n - 3 stars, and so on, until the last row has 1 star, with each row centered using spaces.\n",
    "\n",
    "\n",
    "\n",
    "Input Parameters:\n",
    "\n",
    "n (int): The number of rows in the inverted pyramid.\n",
    "\n",
    "\n",
    "\n",
    "Output:\n",
    "\n",
    "A list of strings where each string represents a row of the inverted pyramid.\n",
    "\n",
    "\n",
    "\n",
    "Example:\n",
    "\n",
    "Input: 3\n",
    "Output: ['*****', ' *** ', '  *  ']\n",
    " \n",
    "Input: 5\n",
    "Output: ['*********', ' ******* ', '  *****  ', '   ***   ', '    *    ']\n",
    "\n",
    "\n",
    "Disclaimer: This Udemy coding exercise is still in development, so some advanced complexities might not be fully checked. Please use it primarily for basic code validation.\n",
    "\n",
    "\n",
    "All changes saved\n",
    "|\n",
    "Line 1, Column 1\n",
    "Coding Exercise"
   ]
  },
  {
   "cell_type": "code",
   "execution_count": null,
   "metadata": {},
   "outputs": [
    {
     "name": "stdout",
     "output_type": "stream",
     "text": [
      "['*********', ' *******', '  *****', '   ***', '    *']\n"
     ]
    }
   ],
   "source": [
    "def generate_inverted_pyramid(n):\n",
    "    inverted_pyramid = []\n",
    "    for i in range(n, 0, -1):\n",
    "        inverted_pyramid.append(' '*(n-i) + '*'*(2*i-1))\n",
    "    return inverted_pyramid\n",
    "\n",
    "n = 5\n",
    "result = generate_inverted_pyramid(n)\n",
    "print(result)"
   ]
  },
  {
   "cell_type": "code",
   "execution_count": null,
   "metadata": {},
   "outputs": [
    {
     "name": "stdout",
     "output_type": "stream",
     "text": [
      "['*********', ' ******* ', '  *****  ', '   ***   ', '    *    ']\n"
     ]
    }
   ],
   "source": [
    "def generate_inverted_pyramid(n):\n",
    "    return [' ' * (n - i) + '*' * (2 * i - 1) + ' ' * (n-i) for i in range(n, 0, -1)]\n",
    "\n",
    "print(generate_inverted_pyramid(5))"
   ]
  }
 ],
 "metadata": {
  "kernelspec": {
   "display_name": "Python 3",
   "language": "python",
   "name": "python3"
  },
  "language_info": {
   "codemirror_mode": {
    "name": "ipython",
    "version": 3
   },
   "file_extension": ".py",
   "mimetype": "text/x-python",
   "name": "python",
   "nbconvert_exporter": "python",
   "pygments_lexer": "ipython3",
   "version": "3.12.0"
  }
 },
 "nbformat": 4,
 "nbformat_minor": 2
}
