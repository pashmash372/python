{
 "cells": [
  {
   "cell_type": "markdown",
   "metadata": {},
   "source": [
    "\n",
    "Diamond Pattern\n",
    "Problem Description:\n",
    "\n",
    "You are given an integer n. Your task is to return a diamond pattern of '*' with n rows for the upper part (the widest row will have 2n - 1 stars), and the lower part is the mirrored version of the upper part. Each row should be centered with appropriate spaces.\n",
    "\n",
    "\n",
    "\n",
    "Input:\n",
    "\n",
    "A single integer n, where 1 <= n <= 100.\n",
    "\n",
    "\n",
    "\n",
    "Output:\n",
    "\n",
    "A list of strings where each string represents a row in the diamond pattern.\n",
    "\n",
    "\n",
    "\n",
    "Example:\n",
    "\n",
    "Input: 3\n",
    "Output: ['  *  ', ' *** ', '*****', ' *** ', '  *  ']\n",
    " \n",
    "Input: 5\n",
    "Output: ['    *    ', '   ***   ', '  *****  ', ' ******* ', '*********', ' ******* ', '  *****  ', '   ***   ', '    *    ']\n",
    "\n",
    "\n",
    "Disclaimer: This Udemy coding exercise is still in development, so some advanced complexities might not be fully checked. Please use it primarily for basic code validation.\n",
    "\n",
    "\n",
    "All changes saved\n",
    "|\n",
    "Line 1, Column 1\n",
    "Coding Exercise"
   ]
  },
  {
   "cell_type": "code",
   "execution_count": null,
   "metadata": {},
   "outputs": [
    {
     "name": "stdout",
     "output_type": "stream",
     "text": [
      "  *  \n",
      " *** \n",
      "*****\n",
      " *** \n",
      "  *  \n"
     ]
    }
   ],
   "source": [
    "def pattern(n):\n",
    "    for i in range(1, n+1):\n",
    "        print(' '*(n-i) + '*'*(2*i-1) + ' '*(n-i))\n",
    "    for i in range(n-1, 0, -1):\n",
    "        print(' '*(n-i) + '*'*(2*i-1) + ' '*(n-i))\n",
    "\n",
    "pattern(3)"
   ]
  },
  {
   "cell_type": "code",
   "execution_count": 2,
   "metadata": {},
   "outputs": [
    {
     "name": "stdout",
     "output_type": "stream",
     "text": [
      "  *  \n",
      " *** \n",
      "*****\n",
      " *** \n",
      "  *  \n"
     ]
    }
   ],
   "source": [
    "# write the above code using list comprehension\n",
    "\n",
    "def pattern(n):\n",
    "    [print(' '*(n-i) + '*'*(2*i-1) + ' '*(n-i)) for i in range(1, n+1)]\n",
    "    [print(' '*(n-i) + '*'*(2*i-1) + ' '*(n-i)) for i in range(n-1, 0, -1)]\n",
    "\n",
    "pattern(3)"
   ]
  },
  {
   "cell_type": "code",
   "execution_count": 10,
   "metadata": {},
   "outputs": [
    {
     "name": "stdout",
     "output_type": "stream",
     "text": [
      "['  *  ', ' *** ', '*****', ' *** ', '  *  ']\n"
     ]
    }
   ],
   "source": [
    "def pattern(n):\n",
    "    ans=[]\n",
    "    ans += [' '*(n-i) + '*'*(2*i-1) + ' '*(n-i) for i in range(1, n+1)]\n",
    "    ans += [' '*(n-i) + '*'*(2*i-1) + ' '*(n-i) for i in range(n-1, 0, -1)]\n",
    "    return ans\n",
    "\n",
    "print(pattern(3))"
   ]
  },
  {
   "cell_type": "code",
   "execution_count": 4,
   "metadata": {},
   "outputs": [
    {
     "name": "stdout",
     "output_type": "stream",
     "text": [
      "  *  \n",
      " *** \n",
      "*****\n",
      " *** \n",
      "  *  \n"
     ]
    },
    {
     "data": {
      "text/plain": [
       "[None, None, None, None, None]"
      ]
     },
     "execution_count": 4,
     "metadata": {},
     "output_type": "execute_result"
    }
   ],
   "source": [
    "# write the above code using list comprehension and lambda function\n",
    "\n",
    "pattern = lambda n: [print(' '*(n-i) + '*'*(2*i-1) + ' '*(n-i)) for i in range(1, n+1)] + [print(' '*(n-i) + '*'*(2*i-1) + ' '*(n-i)) for i in range(n-1, 0, -1)]\n",
    "\n",
    "pattern(3)"
   ]
  },
  {
   "cell_type": "code",
   "execution_count": 6,
   "metadata": {},
   "outputs": [
    {
     "name": "stdout",
     "output_type": "stream",
     "text": [
      "['*']\n"
     ]
    }
   ],
   "source": [
    "# write the above code without printing the output using list comprehension\n",
    "\n",
    "pattern = lambda n: [' '*(n-i) + '*'*(2*i-1) + ' '*(n-i) for i in range(1, n+1)] + [' '*(n-i) + '*'*(2*i-1) + ' '*(n-i) for i in range(n-1, 0, -1)]\n",
    "\n",
    "print(pattern(1))\n"
   ]
  }
 ],
 "metadata": {
  "kernelspec": {
   "display_name": "Python 3",
   "language": "python",
   "name": "python3"
  },
  "language_info": {
   "codemirror_mode": {
    "name": "ipython",
    "version": 3
   },
   "file_extension": ".py",
   "mimetype": "text/x-python",
   "name": "python",
   "nbconvert_exporter": "python",
   "pygments_lexer": "ipython3",
   "version": "3.12.0"
  }
 },
 "nbformat": 4,
 "nbformat_minor": 2
}
